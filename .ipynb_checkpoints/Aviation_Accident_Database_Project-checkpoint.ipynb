{
 "cells": [
  {
   "cell_type": "markdown",
   "metadata": {},
   "source": [
    "# objectives\n",
    "* to clean up the data\n",
    "* to find out the number of accidents that have happened \n",
    "* to find out how many passangers were injured or killed\n",
    "* to find out the cause of the crashes\n",
    "* what is the majour contribution to accidents (pilot error or other)\n",
    "* airline with most accidents\n",
    "* country with most accidents\n",
    "****"
   ]
  },
  {
   "cell_type": "markdown",
   "metadata": {},
   "source": [
    "# add readme to the file"
   ]
  },
  {
   "cell_type": "code",
   "execution_count": 1,
   "metadata": {},
   "outputs": [],
   "source": [
    "#importing the necesarry libraries\n",
    "import pandas as pd\n",
    "import numpy as np\n",
    "import json\n",
    "import csv\n",
    "import matplotlib.pyplot as plt\n",
    "%matplotlib inline"
   ]
  },
  {
   "cell_type": "code",
   "execution_count": 2,
   "metadata": {},
   "outputs": [
    {
     "name": "stdout",
     "output_type": "stream",
     "text": [
      "AviationData.csv\n",
      "Aviation_Accident_Database_Project.ipynb\n",
      "USState_Codes.csv\n"
     ]
    }
   ],
   "source": [
    "!ls    "
   ]
  },
  {
   "cell_type": "code",
   "execution_count": 3,
   "metadata": {},
   "outputs": [
    {
     "data": {
      "text/html": [
       "<div>\n",
       "<style scoped>\n",
       "    .dataframe tbody tr th:only-of-type {\n",
       "        vertical-align: middle;\n",
       "    }\n",
       "\n",
       "    .dataframe tbody tr th {\n",
       "        vertical-align: top;\n",
       "    }\n",
       "\n",
       "    .dataframe thead th {\n",
       "        text-align: right;\n",
       "    }\n",
       "</style>\n",
       "<table border=\"1\" class=\"dataframe\">\n",
       "  <thead>\n",
       "    <tr style=\"text-align: right;\">\n",
       "      <th></th>\n",
       "      <th>0</th>\n",
       "      <th>1</th>\n",
       "      <th>2</th>\n",
       "      <th>3</th>\n",
       "      <th>4</th>\n",
       "      <th>5</th>\n",
       "      <th>6</th>\n",
       "      <th>7</th>\n",
       "      <th>8</th>\n",
       "      <th>9</th>\n",
       "      <th>...</th>\n",
       "      <th>21</th>\n",
       "      <th>22</th>\n",
       "      <th>23</th>\n",
       "      <th>24</th>\n",
       "      <th>25</th>\n",
       "      <th>26</th>\n",
       "      <th>27</th>\n",
       "      <th>28</th>\n",
       "      <th>29</th>\n",
       "      <th>30</th>\n",
       "    </tr>\n",
       "  </thead>\n",
       "  <tbody>\n",
       "    <tr>\n",
       "      <th>0</th>\n",
       "      <td>Event.Id</td>\n",
       "      <td>Investigation.Type</td>\n",
       "      <td>Accident.Number</td>\n",
       "      <td>Event.Date</td>\n",
       "      <td>Location</td>\n",
       "      <td>Country</td>\n",
       "      <td>Latitude</td>\n",
       "      <td>Longitude</td>\n",
       "      <td>Airport.Code</td>\n",
       "      <td>Airport.Name</td>\n",
       "      <td>...</td>\n",
       "      <td>Purpose.of.flight</td>\n",
       "      <td>Air.carrier</td>\n",
       "      <td>Total.Fatal.Injuries</td>\n",
       "      <td>Total.Serious.Injuries</td>\n",
       "      <td>Total.Minor.Injuries</td>\n",
       "      <td>Total.Uninjured</td>\n",
       "      <td>Weather.Condition</td>\n",
       "      <td>Broad.phase.of.flight</td>\n",
       "      <td>Report.Status</td>\n",
       "      <td>Publication.Date</td>\n",
       "    </tr>\n",
       "    <tr>\n",
       "      <th>1</th>\n",
       "      <td>20001218X45444</td>\n",
       "      <td>Accident</td>\n",
       "      <td>SEA87LA080</td>\n",
       "      <td>1948-10-24</td>\n",
       "      <td>MOOSE CREEK, ID</td>\n",
       "      <td>United States</td>\n",
       "      <td></td>\n",
       "      <td></td>\n",
       "      <td></td>\n",
       "      <td></td>\n",
       "      <td>...</td>\n",
       "      <td>Personal</td>\n",
       "      <td></td>\n",
       "      <td>2</td>\n",
       "      <td>0</td>\n",
       "      <td>0</td>\n",
       "      <td>0</td>\n",
       "      <td>UNK</td>\n",
       "      <td>Cruise</td>\n",
       "      <td>Probable Cause</td>\n",
       "      <td></td>\n",
       "    </tr>\n",
       "    <tr>\n",
       "      <th>2</th>\n",
       "      <td>20001218X45447</td>\n",
       "      <td>Accident</td>\n",
       "      <td>LAX94LA336</td>\n",
       "      <td>1962-07-19</td>\n",
       "      <td>BRIDGEPORT, CA</td>\n",
       "      <td>United States</td>\n",
       "      <td></td>\n",
       "      <td></td>\n",
       "      <td></td>\n",
       "      <td></td>\n",
       "      <td>...</td>\n",
       "      <td>Personal</td>\n",
       "      <td></td>\n",
       "      <td>4</td>\n",
       "      <td>0</td>\n",
       "      <td>0</td>\n",
       "      <td>0</td>\n",
       "      <td>UNK</td>\n",
       "      <td>Unknown</td>\n",
       "      <td>Probable Cause</td>\n",
       "      <td>19-09-1996</td>\n",
       "    </tr>\n",
       "    <tr>\n",
       "      <th>3</th>\n",
       "      <td>20061025X01555</td>\n",
       "      <td>Accident</td>\n",
       "      <td>NYC07LA005</td>\n",
       "      <td>1974-08-30</td>\n",
       "      <td>Saltville, VA</td>\n",
       "      <td>United States</td>\n",
       "      <td>36.922223</td>\n",
       "      <td>-81.878056</td>\n",
       "      <td></td>\n",
       "      <td></td>\n",
       "      <td>...</td>\n",
       "      <td>Personal</td>\n",
       "      <td></td>\n",
       "      <td>3</td>\n",
       "      <td></td>\n",
       "      <td></td>\n",
       "      <td></td>\n",
       "      <td>IMC</td>\n",
       "      <td>Cruise</td>\n",
       "      <td>Probable Cause</td>\n",
       "      <td>26-02-2007</td>\n",
       "    </tr>\n",
       "    <tr>\n",
       "      <th>4</th>\n",
       "      <td>20001218X45448</td>\n",
       "      <td>Accident</td>\n",
       "      <td>LAX96LA321</td>\n",
       "      <td>1977-06-19</td>\n",
       "      <td>EUREKA, CA</td>\n",
       "      <td>United States</td>\n",
       "      <td></td>\n",
       "      <td></td>\n",
       "      <td></td>\n",
       "      <td></td>\n",
       "      <td>...</td>\n",
       "      <td>Personal</td>\n",
       "      <td></td>\n",
       "      <td>2</td>\n",
       "      <td>0</td>\n",
       "      <td>0</td>\n",
       "      <td>0</td>\n",
       "      <td>IMC</td>\n",
       "      <td>Cruise</td>\n",
       "      <td>Probable Cause</td>\n",
       "      <td>12-09-2000</td>\n",
       "    </tr>\n",
       "  </tbody>\n",
       "</table>\n",
       "<p>5 rows × 31 columns</p>\n",
       "</div>"
      ],
      "text/plain": [
       "               0                   1                2           3   \\\n",
       "0        Event.Id  Investigation.Type  Accident.Number  Event.Date   \n",
       "1  20001218X45444            Accident       SEA87LA080  1948-10-24   \n",
       "2  20001218X45447            Accident       LAX94LA336  1962-07-19   \n",
       "3  20061025X01555            Accident       NYC07LA005  1974-08-30   \n",
       "4  20001218X45448            Accident       LAX96LA321  1977-06-19   \n",
       "\n",
       "                4              5          6           7             8   \\\n",
       "0         Location        Country   Latitude   Longitude  Airport.Code   \n",
       "1  MOOSE CREEK, ID  United States                                        \n",
       "2   BRIDGEPORT, CA  United States                                        \n",
       "3    Saltville, VA  United States  36.922223  -81.878056                 \n",
       "4       EUREKA, CA  United States                                        \n",
       "\n",
       "             9   ...                 21           22                    23  \\\n",
       "0  Airport.Name  ...  Purpose.of.flight  Air.carrier  Total.Fatal.Injuries   \n",
       "1                ...           Personal                                  2   \n",
       "2                ...           Personal                                  4   \n",
       "3                ...           Personal                                  3   \n",
       "4                ...           Personal                                  2   \n",
       "\n",
       "                       24                    25               26  \\\n",
       "0  Total.Serious.Injuries  Total.Minor.Injuries  Total.Uninjured   \n",
       "1                       0                     0                0   \n",
       "2                       0                     0                0   \n",
       "3                                                                  \n",
       "4                       0                     0                0   \n",
       "\n",
       "                  27                     28              29                30  \n",
       "0  Weather.Condition  Broad.phase.of.flight   Report.Status  Publication.Date  \n",
       "1                UNK                 Cruise  Probable Cause                    \n",
       "2                UNK                Unknown  Probable Cause        19-09-1996  \n",
       "3                IMC                 Cruise  Probable Cause        26-02-2007  \n",
       "4                IMC                 Cruise  Probable Cause        12-09-2000  \n",
       "\n",
       "[5 rows x 31 columns]"
      ]
     },
     "execution_count": 3,
     "metadata": {},
     "output_type": "execute_result"
    }
   ],
   "source": [
    "with open(\"AviationData.csv\") as f:\n",
    "    reader = csv.reader(f)\n",
    "    data = list(reader)  \n",
    "df = pd.DataFrame(data)\n",
    "df.head()"
   ]
  },
  {
   "cell_type": "code",
   "execution_count": 4,
   "metadata": {},
   "outputs": [
    {
     "data": {
      "text/html": [
       "<div>\n",
       "<style scoped>\n",
       "    .dataframe tbody tr th:only-of-type {\n",
       "        vertical-align: middle;\n",
       "    }\n",
       "\n",
       "    .dataframe tbody tr th {\n",
       "        vertical-align: top;\n",
       "    }\n",
       "\n",
       "    .dataframe thead th {\n",
       "        text-align: right;\n",
       "    }\n",
       "</style>\n",
       "<table border=\"1\" class=\"dataframe\">\n",
       "  <thead>\n",
       "    <tr style=\"text-align: right;\">\n",
       "      <th></th>\n",
       "      <th>US_State</th>\n",
       "      <th>Abbreviation</th>\n",
       "    </tr>\n",
       "  </thead>\n",
       "  <tbody>\n",
       "    <tr>\n",
       "      <th>0</th>\n",
       "      <td>Alabama</td>\n",
       "      <td>AL</td>\n",
       "    </tr>\n",
       "    <tr>\n",
       "      <th>1</th>\n",
       "      <td>Alaska</td>\n",
       "      <td>AK</td>\n",
       "    </tr>\n",
       "    <tr>\n",
       "      <th>2</th>\n",
       "      <td>Arizona</td>\n",
       "      <td>AZ</td>\n",
       "    </tr>\n",
       "    <tr>\n",
       "      <th>3</th>\n",
       "      <td>Arkansas</td>\n",
       "      <td>AR</td>\n",
       "    </tr>\n",
       "    <tr>\n",
       "      <th>4</th>\n",
       "      <td>California</td>\n",
       "      <td>CA</td>\n",
       "    </tr>\n",
       "  </tbody>\n",
       "</table>\n",
       "</div>"
      ],
      "text/plain": [
       "     US_State Abbreviation\n",
       "0     Alabama           AL\n",
       "1      Alaska           AK\n",
       "2     Arizona           AZ\n",
       "3    Arkansas           AR\n",
       "4  California           CA"
      ]
     },
     "execution_count": 4,
     "metadata": {},
     "output_type": "execute_result"
    }
   ],
   "source": [
    "codes = pd.read_csv(\"USState_Codes.csv\")\n",
    "codes.head()"
   ]
  },
  {
   "cell_type": "markdown",
   "metadata": {},
   "source": [
    "## analysing  the dataset and looking for missing values"
   ]
  },
  {
   "cell_type": "code",
   "execution_count": 5,
   "metadata": {
    "scrolled": true
   },
   "outputs": [
    {
     "name": "stdout",
     "output_type": "stream",
     "text": [
      "<class 'pandas.core.frame.DataFrame'>\n",
      "RangeIndex: 88890 entries, 0 to 88889\n",
      "Data columns (total 31 columns):\n",
      " #   Column  Non-Null Count  Dtype \n",
      "---  ------  --------------  ----- \n",
      " 0   0       88890 non-null  object\n",
      " 1   1       88890 non-null  object\n",
      " 2   2       88890 non-null  object\n",
      " 3   3       88890 non-null  object\n",
      " 4   4       88890 non-null  object\n",
      " 5   5       88890 non-null  object\n",
      " 6   6       88890 non-null  object\n",
      " 7   7       88890 non-null  object\n",
      " 8   8       88890 non-null  object\n",
      " 9   9       88890 non-null  object\n",
      " 10  10      88890 non-null  object\n",
      " 11  11      88890 non-null  object\n",
      " 12  12      88890 non-null  object\n",
      " 13  13      88890 non-null  object\n",
      " 14  14      88890 non-null  object\n",
      " 15  15      88890 non-null  object\n",
      " 16  16      88890 non-null  object\n",
      " 17  17      88890 non-null  object\n",
      " 18  18      88890 non-null  object\n",
      " 19  19      88890 non-null  object\n",
      " 20  20      88890 non-null  object\n",
      " 21  21      88890 non-null  object\n",
      " 22  22      88890 non-null  object\n",
      " 23  23      88890 non-null  object\n",
      " 24  24      88890 non-null  object\n",
      " 25  25      88890 non-null  object\n",
      " 26  26      88890 non-null  object\n",
      " 27  27      88890 non-null  object\n",
      " 28  28      88890 non-null  object\n",
      " 29  29      88890 non-null  object\n",
      " 30  30      88890 non-null  object\n",
      "dtypes: object(31)\n",
      "memory usage: 21.0+ MB\n"
     ]
    }
   ],
   "source": [
    "df.info()"
   ]
  },
  {
   "cell_type": "code",
   "execution_count": 6,
   "metadata": {},
   "outputs": [
    {
     "data": {
      "text/plain": [
       "(88890, 31)"
      ]
     },
     "execution_count": 6,
     "metadata": {},
     "output_type": "execute_result"
    }
   ],
   "source": [
    "df.shape"
   ]
  },
  {
   "cell_type": "code",
   "execution_count": 7,
   "metadata": {},
   "outputs": [
    {
     "data": {
      "text/html": [
       "<div>\n",
       "<style scoped>\n",
       "    .dataframe tbody tr th:only-of-type {\n",
       "        vertical-align: middle;\n",
       "    }\n",
       "\n",
       "    .dataframe tbody tr th {\n",
       "        vertical-align: top;\n",
       "    }\n",
       "\n",
       "    .dataframe thead th {\n",
       "        text-align: right;\n",
       "    }\n",
       "</style>\n",
       "<table border=\"1\" class=\"dataframe\">\n",
       "  <thead>\n",
       "    <tr style=\"text-align: right;\">\n",
       "      <th></th>\n",
       "      <th>0</th>\n",
       "      <th>1</th>\n",
       "      <th>2</th>\n",
       "      <th>3</th>\n",
       "      <th>4</th>\n",
       "      <th>5</th>\n",
       "      <th>6</th>\n",
       "      <th>7</th>\n",
       "      <th>8</th>\n",
       "      <th>9</th>\n",
       "      <th>...</th>\n",
       "      <th>21</th>\n",
       "      <th>22</th>\n",
       "      <th>23</th>\n",
       "      <th>24</th>\n",
       "      <th>25</th>\n",
       "      <th>26</th>\n",
       "      <th>27</th>\n",
       "      <th>28</th>\n",
       "      <th>29</th>\n",
       "      <th>30</th>\n",
       "    </tr>\n",
       "  </thead>\n",
       "  <tbody>\n",
       "    <tr>\n",
       "      <th>count</th>\n",
       "      <td>88890</td>\n",
       "      <td>88890</td>\n",
       "      <td>88890</td>\n",
       "      <td>88890</td>\n",
       "      <td>88890</td>\n",
       "      <td>88890</td>\n",
       "      <td>88890</td>\n",
       "      <td>88890</td>\n",
       "      <td>88890</td>\n",
       "      <td>88890</td>\n",
       "      <td>...</td>\n",
       "      <td>88890</td>\n",
       "      <td>88890</td>\n",
       "      <td>88890</td>\n",
       "      <td>88890</td>\n",
       "      <td>88890</td>\n",
       "      <td>88890</td>\n",
       "      <td>88890</td>\n",
       "      <td>88890</td>\n",
       "      <td>88890</td>\n",
       "      <td>88890</td>\n",
       "    </tr>\n",
       "    <tr>\n",
       "      <th>unique</th>\n",
       "      <td>87952</td>\n",
       "      <td>3</td>\n",
       "      <td>88864</td>\n",
       "      <td>14783</td>\n",
       "      <td>27760</td>\n",
       "      <td>221</td>\n",
       "      <td>25591</td>\n",
       "      <td>27156</td>\n",
       "      <td>10380</td>\n",
       "      <td>24876</td>\n",
       "      <td>...</td>\n",
       "      <td>28</td>\n",
       "      <td>13593</td>\n",
       "      <td>127</td>\n",
       "      <td>52</td>\n",
       "      <td>59</td>\n",
       "      <td>381</td>\n",
       "      <td>6</td>\n",
       "      <td>14</td>\n",
       "      <td>17078</td>\n",
       "      <td>2926</td>\n",
       "    </tr>\n",
       "    <tr>\n",
       "      <th>top</th>\n",
       "      <td>20001212X19172</td>\n",
       "      <td>Accident</td>\n",
       "      <td>DCA22WA214</td>\n",
       "      <td>1984-06-30</td>\n",
       "      <td>ANCHORAGE, AK</td>\n",
       "      <td>United States</td>\n",
       "      <td></td>\n",
       "      <td></td>\n",
       "      <td></td>\n",
       "      <td></td>\n",
       "      <td>...</td>\n",
       "      <td>Personal</td>\n",
       "      <td></td>\n",
       "      <td>0</td>\n",
       "      <td>0</td>\n",
       "      <td>0</td>\n",
       "      <td>0</td>\n",
       "      <td>VMC</td>\n",
       "      <td></td>\n",
       "      <td>Probable Cause</td>\n",
       "      <td>25-09-2020</td>\n",
       "    </tr>\n",
       "    <tr>\n",
       "      <th>freq</th>\n",
       "      <td>3</td>\n",
       "      <td>85015</td>\n",
       "      <td>2</td>\n",
       "      <td>25</td>\n",
       "      <td>434</td>\n",
       "      <td>82248</td>\n",
       "      <td>54507</td>\n",
       "      <td>54516</td>\n",
       "      <td>38375</td>\n",
       "      <td>35994</td>\n",
       "      <td>...</td>\n",
       "      <td>49448</td>\n",
       "      <td>72238</td>\n",
       "      <td>59675</td>\n",
       "      <td>63289</td>\n",
       "      <td>61454</td>\n",
       "      <td>29879</td>\n",
       "      <td>77303</td>\n",
       "      <td>27165</td>\n",
       "      <td>61754</td>\n",
       "      <td>17019</td>\n",
       "    </tr>\n",
       "  </tbody>\n",
       "</table>\n",
       "<p>4 rows × 31 columns</p>\n",
       "</div>"
      ],
      "text/plain": [
       "                    0         1           2           3              4   \\\n",
       "count            88890     88890       88890       88890          88890   \n",
       "unique           87952         3       88864       14783          27760   \n",
       "top     20001212X19172  Accident  DCA22WA214  1984-06-30  ANCHORAGE, AK   \n",
       "freq                 3     85015           2          25            434   \n",
       "\n",
       "                   5      6      7      8      9   ...        21     22  \\\n",
       "count           88890  88890  88890  88890  88890  ...     88890  88890   \n",
       "unique            221  25591  27156  10380  24876  ...        28  13593   \n",
       "top     United States                              ...  Personal          \n",
       "freq            82248  54507  54516  38375  35994  ...     49448  72238   \n",
       "\n",
       "           23     24     25     26     27     28              29          30  \n",
       "count   88890  88890  88890  88890  88890  88890           88890       88890  \n",
       "unique    127     52     59    381      6     14           17078        2926  \n",
       "top         0      0      0      0    VMC         Probable Cause  25-09-2020  \n",
       "freq    59675  63289  61454  29879  77303  27165           61754       17019  \n",
       "\n",
       "[4 rows x 31 columns]"
      ]
     },
     "execution_count": 7,
     "metadata": {},
     "output_type": "execute_result"
    }
   ],
   "source": [
    "df.describe()"
   ]
  },
  {
   "cell_type": "code",
   "execution_count": 8,
   "metadata": {
    "scrolled": true
   },
   "outputs": [
    {
     "data": {
      "text/plain": [
       "0     0\n",
       "1     0\n",
       "2     0\n",
       "3     0\n",
       "4     0\n",
       "5     0\n",
       "6     0\n",
       "7     0\n",
       "8     0\n",
       "9     0\n",
       "10    0\n",
       "11    0\n",
       "12    0\n",
       "13    0\n",
       "14    0\n",
       "15    0\n",
       "16    0\n",
       "17    0\n",
       "18    0\n",
       "19    0\n",
       "20    0\n",
       "21    0\n",
       "22    0\n",
       "23    0\n",
       "24    0\n",
       "25    0\n",
       "26    0\n",
       "27    0\n",
       "28    0\n",
       "29    0\n",
       "30    0\n",
       "dtype: int64"
      ]
     },
     "execution_count": 8,
     "metadata": {},
     "output_type": "execute_result"
    }
   ],
   "source": [
    "df.isna().sum()\n",
    "#there are no missing values"
   ]
  },
  {
   "cell_type": "code",
   "execution_count": null,
   "metadata": {},
   "outputs": [],
   "source": []
  },
  {
   "cell_type": "markdown",
   "metadata": {},
   "source": [
    "### AviationData seems to not have a propper title, hence i will have to make the first(0) row into a title row\n"
   ]
  },
  {
   "cell_type": "code",
   "execution_count": 9,
   "metadata": {},
   "outputs": [
    {
     "data": {
      "text/plain": [
       "RangeIndex(start=0, stop=31, step=1)"
      ]
     },
     "execution_count": 9,
     "metadata": {},
     "output_type": "execute_result"
    }
   ],
   "source": [
    "df.columns #cecking initial column names to confirm"
   ]
  },
  {
   "cell_type": "code",
   "execution_count": 10,
   "metadata": {},
   "outputs": [
    {
     "data": {
      "text/plain": [
       "Index(['Event.Id', 'Investigation.Type', 'Accident.Number', 'Event.Date',\n",
       "       'Location', 'Country', 'Latitude', 'Longitude', 'Airport.Code',\n",
       "       'Airport.Name', 'Injury.Severity', 'Aircraft.damage',\n",
       "       'Aircraft.Category', 'Registration.Number', 'Make', 'Model',\n",
       "       'Amateur.Built', 'Number.of.Engines', 'Engine.Type', 'FAR.Description',\n",
       "       'Schedule', 'Purpose.of.flight', 'Air.carrier', 'Total.Fatal.Injuries',\n",
       "       'Total.Serious.Injuries', 'Total.Minor.Injuries', 'Total.Uninjured',\n",
       "       'Weather.Condition', 'Broad.phase.of.flight', 'Report.Status',\n",
       "       'Publication.Date'],\n",
       "      dtype='object', name=0)"
      ]
     },
     "execution_count": 10,
     "metadata": {},
     "output_type": "execute_result"
    }
   ],
   "source": [
    "df.columns = df.iloc[0] #replacing the column names with the first row\n",
    "df.columns #calling to confirm the changes made"
   ]
  },
  {
   "cell_type": "code",
   "execution_count": 11,
   "metadata": {},
   "outputs": [
    {
     "data": {
      "text/html": [
       "<div>\n",
       "<style scoped>\n",
       "    .dataframe tbody tr th:only-of-type {\n",
       "        vertical-align: middle;\n",
       "    }\n",
       "\n",
       "    .dataframe tbody tr th {\n",
       "        vertical-align: top;\n",
       "    }\n",
       "\n",
       "    .dataframe thead th {\n",
       "        text-align: right;\n",
       "    }\n",
       "</style>\n",
       "<table border=\"1\" class=\"dataframe\">\n",
       "  <thead>\n",
       "    <tr style=\"text-align: right;\">\n",
       "      <th></th>\n",
       "      <th>Event.Id</th>\n",
       "      <th>Investigation.Type</th>\n",
       "      <th>Accident.Number</th>\n",
       "      <th>Event.Date</th>\n",
       "      <th>Location</th>\n",
       "      <th>Country</th>\n",
       "      <th>Latitude</th>\n",
       "      <th>Longitude</th>\n",
       "      <th>Airport.Code</th>\n",
       "      <th>Airport.Name</th>\n",
       "      <th>...</th>\n",
       "      <th>Purpose.of.flight</th>\n",
       "      <th>Air.carrier</th>\n",
       "      <th>Total.Fatal.Injuries</th>\n",
       "      <th>Total.Serious.Injuries</th>\n",
       "      <th>Total.Minor.Injuries</th>\n",
       "      <th>Total.Uninjured</th>\n",
       "      <th>Weather.Condition</th>\n",
       "      <th>Broad.phase.of.flight</th>\n",
       "      <th>Report.Status</th>\n",
       "      <th>Publication.Date</th>\n",
       "    </tr>\n",
       "  </thead>\n",
       "  <tbody>\n",
       "    <tr>\n",
       "      <th>0</th>\n",
       "      <td>Event.Id</td>\n",
       "      <td>Investigation.Type</td>\n",
       "      <td>Accident.Number</td>\n",
       "      <td>Event.Date</td>\n",
       "      <td>Location</td>\n",
       "      <td>Country</td>\n",
       "      <td>Latitude</td>\n",
       "      <td>Longitude</td>\n",
       "      <td>Airport.Code</td>\n",
       "      <td>Airport.Name</td>\n",
       "      <td>...</td>\n",
       "      <td>Purpose.of.flight</td>\n",
       "      <td>Air.carrier</td>\n",
       "      <td>Total.Fatal.Injuries</td>\n",
       "      <td>Total.Serious.Injuries</td>\n",
       "      <td>Total.Minor.Injuries</td>\n",
       "      <td>Total.Uninjured</td>\n",
       "      <td>Weather.Condition</td>\n",
       "      <td>Broad.phase.of.flight</td>\n",
       "      <td>Report.Status</td>\n",
       "      <td>Publication.Date</td>\n",
       "    </tr>\n",
       "    <tr>\n",
       "      <th>1</th>\n",
       "      <td>20001218X45444</td>\n",
       "      <td>Accident</td>\n",
       "      <td>SEA87LA080</td>\n",
       "      <td>1948-10-24</td>\n",
       "      <td>MOOSE CREEK, ID</td>\n",
       "      <td>United States</td>\n",
       "      <td></td>\n",
       "      <td></td>\n",
       "      <td></td>\n",
       "      <td></td>\n",
       "      <td>...</td>\n",
       "      <td>Personal</td>\n",
       "      <td></td>\n",
       "      <td>2</td>\n",
       "      <td>0</td>\n",
       "      <td>0</td>\n",
       "      <td>0</td>\n",
       "      <td>UNK</td>\n",
       "      <td>Cruise</td>\n",
       "      <td>Probable Cause</td>\n",
       "      <td></td>\n",
       "    </tr>\n",
       "    <tr>\n",
       "      <th>2</th>\n",
       "      <td>20001218X45447</td>\n",
       "      <td>Accident</td>\n",
       "      <td>LAX94LA336</td>\n",
       "      <td>1962-07-19</td>\n",
       "      <td>BRIDGEPORT, CA</td>\n",
       "      <td>United States</td>\n",
       "      <td></td>\n",
       "      <td></td>\n",
       "      <td></td>\n",
       "      <td></td>\n",
       "      <td>...</td>\n",
       "      <td>Personal</td>\n",
       "      <td></td>\n",
       "      <td>4</td>\n",
       "      <td>0</td>\n",
       "      <td>0</td>\n",
       "      <td>0</td>\n",
       "      <td>UNK</td>\n",
       "      <td>Unknown</td>\n",
       "      <td>Probable Cause</td>\n",
       "      <td>19-09-1996</td>\n",
       "    </tr>\n",
       "    <tr>\n",
       "      <th>3</th>\n",
       "      <td>20061025X01555</td>\n",
       "      <td>Accident</td>\n",
       "      <td>NYC07LA005</td>\n",
       "      <td>1974-08-30</td>\n",
       "      <td>Saltville, VA</td>\n",
       "      <td>United States</td>\n",
       "      <td>36.922223</td>\n",
       "      <td>-81.878056</td>\n",
       "      <td></td>\n",
       "      <td></td>\n",
       "      <td>...</td>\n",
       "      <td>Personal</td>\n",
       "      <td></td>\n",
       "      <td>3</td>\n",
       "      <td></td>\n",
       "      <td></td>\n",
       "      <td></td>\n",
       "      <td>IMC</td>\n",
       "      <td>Cruise</td>\n",
       "      <td>Probable Cause</td>\n",
       "      <td>26-02-2007</td>\n",
       "    </tr>\n",
       "    <tr>\n",
       "      <th>4</th>\n",
       "      <td>20001218X45448</td>\n",
       "      <td>Accident</td>\n",
       "      <td>LAX96LA321</td>\n",
       "      <td>1977-06-19</td>\n",
       "      <td>EUREKA, CA</td>\n",
       "      <td>United States</td>\n",
       "      <td></td>\n",
       "      <td></td>\n",
       "      <td></td>\n",
       "      <td></td>\n",
       "      <td>...</td>\n",
       "      <td>Personal</td>\n",
       "      <td></td>\n",
       "      <td>2</td>\n",
       "      <td>0</td>\n",
       "      <td>0</td>\n",
       "      <td>0</td>\n",
       "      <td>IMC</td>\n",
       "      <td>Cruise</td>\n",
       "      <td>Probable Cause</td>\n",
       "      <td>12-09-2000</td>\n",
       "    </tr>\n",
       "  </tbody>\n",
       "</table>\n",
       "<p>5 rows × 31 columns</p>\n",
       "</div>"
      ],
      "text/plain": [
       "0        Event.Id  Investigation.Type  Accident.Number  Event.Date  \\\n",
       "0        Event.Id  Investigation.Type  Accident.Number  Event.Date   \n",
       "1  20001218X45444            Accident       SEA87LA080  1948-10-24   \n",
       "2  20001218X45447            Accident       LAX94LA336  1962-07-19   \n",
       "3  20061025X01555            Accident       NYC07LA005  1974-08-30   \n",
       "4  20001218X45448            Accident       LAX96LA321  1977-06-19   \n",
       "\n",
       "0         Location        Country   Latitude   Longitude  Airport.Code  \\\n",
       "0         Location        Country   Latitude   Longitude  Airport.Code   \n",
       "1  MOOSE CREEK, ID  United States                                        \n",
       "2   BRIDGEPORT, CA  United States                                        \n",
       "3    Saltville, VA  United States  36.922223  -81.878056                 \n",
       "4       EUREKA, CA  United States                                        \n",
       "\n",
       "0  Airport.Name  ...  Purpose.of.flight  Air.carrier  Total.Fatal.Injuries  \\\n",
       "0  Airport.Name  ...  Purpose.of.flight  Air.carrier  Total.Fatal.Injuries   \n",
       "1                ...           Personal                                  2   \n",
       "2                ...           Personal                                  4   \n",
       "3                ...           Personal                                  3   \n",
       "4                ...           Personal                                  2   \n",
       "\n",
       "0  Total.Serious.Injuries  Total.Minor.Injuries  Total.Uninjured  \\\n",
       "0  Total.Serious.Injuries  Total.Minor.Injuries  Total.Uninjured   \n",
       "1                       0                     0                0   \n",
       "2                       0                     0                0   \n",
       "3                                                                  \n",
       "4                       0                     0                0   \n",
       "\n",
       "0  Weather.Condition  Broad.phase.of.flight   Report.Status  Publication.Date  \n",
       "0  Weather.Condition  Broad.phase.of.flight   Report.Status  Publication.Date  \n",
       "1                UNK                 Cruise  Probable Cause                    \n",
       "2                UNK                Unknown  Probable Cause        19-09-1996  \n",
       "3                IMC                 Cruise  Probable Cause        26-02-2007  \n",
       "4                IMC                 Cruise  Probable Cause        12-09-2000  \n",
       "\n",
       "[5 rows x 31 columns]"
      ]
     },
     "execution_count": 11,
     "metadata": {},
     "output_type": "execute_result"
    }
   ],
   "source": [
    "df.head() #confirming changes"
   ]
  },
  {
   "cell_type": "code",
   "execution_count": 12,
   "metadata": {},
   "outputs": [],
   "source": [
    "df = df.drop(0) #dropping the first row as it contained the column titles"
   ]
  },
  {
   "cell_type": "code",
   "execution_count": 13,
   "metadata": {},
   "outputs": [
    {
     "data": {
      "text/plain": [
       "(88889, 31)"
      ]
     },
     "execution_count": 13,
     "metadata": {},
     "output_type": "execute_result"
    }
   ],
   "source": [
    "df.shape  #previous shape = (88890, 31)"
   ]
  },
  {
   "cell_type": "code",
   "execution_count": 14,
   "metadata": {},
   "outputs": [
    {
     "name": "stdout",
     "output_type": "stream",
     "text": [
      "<class 'pandas.core.frame.DataFrame'>\n",
      "Int64Index: 88889 entries, 1 to 88889\n",
      "Data columns (total 31 columns):\n",
      " #   Column                  Non-Null Count  Dtype \n",
      "---  ------                  --------------  ----- \n",
      " 0   Event.Id                88889 non-null  object\n",
      " 1   Investigation.Type      88889 non-null  object\n",
      " 2   Accident.Number         88889 non-null  object\n",
      " 3   Event.Date              88889 non-null  object\n",
      " 4   Location                88889 non-null  object\n",
      " 5   Country                 88889 non-null  object\n",
      " 6   Latitude                88889 non-null  object\n",
      " 7   Longitude               88889 non-null  object\n",
      " 8   Airport.Code            88889 non-null  object\n",
      " 9   Airport.Name            88889 non-null  object\n",
      " 10  Injury.Severity         88889 non-null  object\n",
      " 11  Aircraft.damage         88889 non-null  object\n",
      " 12  Aircraft.Category       88889 non-null  object\n",
      " 13  Registration.Number     88889 non-null  object\n",
      " 14  Make                    88889 non-null  object\n",
      " 15  Model                   88889 non-null  object\n",
      " 16  Amateur.Built           88889 non-null  object\n",
      " 17  Number.of.Engines       88889 non-null  object\n",
      " 18  Engine.Type             88889 non-null  object\n",
      " 19  FAR.Description         88889 non-null  object\n",
      " 20  Schedule                88889 non-null  object\n",
      " 21  Purpose.of.flight       88889 non-null  object\n",
      " 22  Air.carrier             88889 non-null  object\n",
      " 23  Total.Fatal.Injuries    88889 non-null  object\n",
      " 24  Total.Serious.Injuries  88889 non-null  object\n",
      " 25  Total.Minor.Injuries    88889 non-null  object\n",
      " 26  Total.Uninjured         88889 non-null  object\n",
      " 27  Weather.Condition       88889 non-null  object\n",
      " 28  Broad.phase.of.flight   88889 non-null  object\n",
      " 29  Report.Status           88889 non-null  object\n",
      " 30  Publication.Date        88889 non-null  object\n",
      "dtypes: object(31)\n",
      "memory usage: 21.7+ MB\n"
     ]
    }
   ],
   "source": [
    "df.info()"
   ]
  },
  {
   "cell_type": "markdown",
   "metadata": {},
   "source": [
    "# Analysis starts\n"
   ]
  },
  {
   "cell_type": "code",
   "execution_count": 15,
   "metadata": {},
   "outputs": [
    {
     "ename": "NameError",
     "evalue": "name 'minimum_date' is not defined",
     "output_type": "error",
     "traceback": [
      "\u001b[1;31m---------------------------------------------------------------------------\u001b[0m",
      "\u001b[1;31mNameError\u001b[0m                                 Traceback (most recent call last)",
      "\u001b[1;32m<ipython-input-15-4684e417a5cf>\u001b[0m in \u001b[0;36m<module>\u001b[1;34m\u001b[0m\n\u001b[1;32m----> 1\u001b[1;33m \u001b[0mprint\u001b[0m\u001b[1;33m(\u001b[0m\u001b[1;34mf\"there have been {len(df['Accident.Number'].value_counts())} accidents since {minimum_date}\"\u001b[0m\u001b[1;33m)\u001b[0m\u001b[1;33m\u001b[0m\u001b[1;33m\u001b[0m\u001b[0m\n\u001b[0m",
      "\u001b[1;31mNameError\u001b[0m: name 'minimum_date' is not defined"
     ]
    }
   ],
   "source": [
    "print(f\"there have been {len(df['Accident.Number'].value_counts())} accidents since {minimum_date}\")"
   ]
  },
  {
   "cell_type": "code",
   "execution_count": 16,
   "metadata": {},
   "outputs": [
    {
     "data": {
      "text/plain": [
       "<bound method Series.unique of 1         Fatal(2)\n",
       "2         Fatal(4)\n",
       "3         Fatal(3)\n",
       "4         Fatal(2)\n",
       "5         Fatal(1)\n",
       "           ...    \n",
       "88885        Minor\n",
       "88886             \n",
       "88887    Non-Fatal\n",
       "88888             \n",
       "88889        Minor\n",
       "Name: Injury.Severity, Length: 88889, dtype: object>"
      ]
     },
     "execution_count": 16,
     "metadata": {},
     "output_type": "execute_result"
    }
   ],
   "source": [
    "df[\"Injury.Severity\"].unique"
   ]
  },
  {
   "cell_type": "code",
   "execution_count": 17,
   "metadata": {},
   "outputs": [
    {
     "data": {
      "text/plain": [
       "5262"
      ]
     },
     "execution_count": 17,
     "metadata": {},
     "output_type": "execute_result"
    }
   ],
   "source": [
    "fatal = df[df[\"Injury.Severity\"] == \"Fatal\"]\n",
    "len(fatal)"
   ]
  },
  {
   "cell_type": "code",
   "execution_count": 18,
   "metadata": {},
   "outputs": [
    {
     "data": {
      "text/plain": [
       "218"
      ]
     },
     "execution_count": 18,
     "metadata": {},
     "output_type": "execute_result"
    }
   ],
   "source": [
    "Minor = df[df[\"Injury.Severity\"] == \"Minor\"]\n",
    "len(Minor)"
   ]
  },
  {
   "cell_type": "code",
   "execution_count": 19,
   "metadata": {},
   "outputs": [
    {
     "data": {
      "text/plain": [
       "67357"
      ]
     },
     "execution_count": 19,
     "metadata": {},
     "output_type": "execute_result"
    }
   ],
   "source": [
    "Non_Fatal = df[df[\"Injury.Severity\"] == \"Non-Fatal\"]\n",
    "len(Non_Fatal)"
   ]
  },
  {
   "cell_type": "code",
   "execution_count": 20,
   "metadata": {},
   "outputs": [
    {
     "name": "stdout",
     "output_type": "stream",
     "text": [
      "there were 5262 fatal incidents, 218 minor injuries and  67357 non fatal injuries in total\n"
     ]
    }
   ],
   "source": [
    "print(f\"there were {len(fatal)} fatal incidents, {len(Minor)} minor injuries and  {len(Non_Fatal)} non fatal injuries in total\")"
   ]
  },
  {
   "cell_type": "markdown",
   "metadata": {},
   "source": [
    "# graph for innjury status"
   ]
  },
  {
   "cell_type": "code",
   "execution_count": 21,
   "metadata": {},
   "outputs": [
    {
     "data": {
      "text/plain": [
       "array(['Accident', 'Incident'], dtype=object)"
      ]
     },
     "execution_count": 21,
     "metadata": {},
     "output_type": "execute_result"
    }
   ],
   "source": [
    "#cause of crash\n",
    "df['Investigation.Type'].unique()"
   ]
  },
  {
   "cell_type": "code",
   "execution_count": 22,
   "metadata": {},
   "outputs": [
    {
     "data": {
      "text/plain": [
       "85015"
      ]
     },
     "execution_count": 22,
     "metadata": {},
     "output_type": "execute_result"
    }
   ],
   "source": [
    "len(df[df['Investigation.Type'] == 'Accident'])"
   ]
  },
  {
   "cell_type": "code",
   "execution_count": 23,
   "metadata": {},
   "outputs": [
    {
     "data": {
      "text/plain": [
       "3874"
      ]
     },
     "execution_count": 23,
     "metadata": {},
     "output_type": "execute_result"
    }
   ],
   "source": [
    "len(df[df['Investigation.Type'] == 'Incident'])"
   ]
  },
  {
   "cell_type": "markdown",
   "metadata": {},
   "source": [
    "# pie chart for the data\n",
    "* resolution---there should be a more detailed report on what cause the acciodent"
   ]
  },
  {
   "cell_type": "code",
   "execution_count": 24,
   "metadata": {},
   "outputs": [
    {
     "data": {
      "text/plain": [
       "1    \n",
       "2    \n",
       "3    \n",
       "4    \n",
       "5    \n",
       "Name: FAR.Description, dtype: object"
      ]
     },
     "execution_count": 24,
     "metadata": {},
     "output_type": "execute_result"
    }
   ],
   "source": [
    "df['FAR.Description'].head()   #CHECK ON THIS"
   ]
  },
  {
   "cell_type": "code",
   "execution_count": 25,
   "metadata": {},
   "outputs": [
    {
     "data": {
      "text/plain": [
       "array(['UNK', 'IMC', 'VMC', '', 'Unk'], dtype=object)"
      ]
     },
     "execution_count": 25,
     "metadata": {},
     "output_type": "execute_result"
    }
   ],
   "source": [
    "df[\"Weather.Condition\"].unique()"
   ]
  },
  {
   "cell_type": "markdown",
   "metadata": {},
   "source": [
    "unk = unknown or not recorded\n",
    "vmc = \"VMC\" stands for Visual Meteorological Conditions. This indicates that the weather conditions are good enough for pilots to operate\n",
    "imc = \"IMC\" stands for Instrument Meteorological Conditions. These conditions occur when visibility is poor, typically due to weather factors like heavy clouds, fog, rain, or snow, making it impossible for pilots to rely solely on their vision to navigate. Under\n"
   ]
  },
  {
   "cell_type": "code",
   "execution_count": 26,
   "metadata": {},
   "outputs": [
    {
     "data": {
      "text/plain": [
       "77303"
      ]
     },
     "execution_count": 26,
     "metadata": {},
     "output_type": "execute_result"
    }
   ],
   "source": [
    "len(df[df[\"Weather.Condition\"] == 'VMC']) "
   ]
  },
  {
   "cell_type": "code",
   "execution_count": 27,
   "metadata": {},
   "outputs": [
    {
     "data": {
      "text/plain": [
       "5976"
      ]
     },
     "execution_count": 27,
     "metadata": {},
     "output_type": "execute_result"
    }
   ],
   "source": [
    "len(df[df[\"Weather.Condition\"] == 'IMC'])"
   ]
  },
  {
   "cell_type": "code",
   "execution_count": 28,
   "metadata": {},
   "outputs": [
    {
     "data": {
      "text/plain": [
       "856"
      ]
     },
     "execution_count": 28,
     "metadata": {},
     "output_type": "execute_result"
    }
   ],
   "source": [
    "len(df[df[\"Weather.Condition\"] == 'UNK' ]) "
   ]
  },
  {
   "cell_type": "code",
   "execution_count": 29,
   "metadata": {},
   "outputs": [
    {
     "data": {
      "text/plain": [
       "262"
      ]
     },
     "execution_count": 29,
     "metadata": {},
     "output_type": "execute_result"
    }
   ],
   "source": [
    "len(df[df[\"Weather.Condition\"] == 'Unk']) "
   ]
  },
  {
   "cell_type": "markdown",
   "metadata": {},
   "source": [
    "# pie chart of data\n"
   ]
  },
  {
   "cell_type": "code",
   "execution_count": 30,
   "metadata": {},
   "outputs": [],
   "source": [
    "weather_investigation = df[df[\"Weather.Condition\"] == \"VMC\"][\"Broad.phase.of.flight\"]\n"
   ]
  },
  {
   "cell_type": "code",
   "execution_count": 31,
   "metadata": {},
   "outputs": [
    {
     "data": {
      "text/plain": [
       "               27165\n",
       "Landing        15428\n",
       "Takeoff        12493\n",
       "Cruise         10269\n",
       "Maneuvering     8144\n",
       "Approach        6546\n",
       "Climb           2034\n",
       "Taxi            1958\n",
       "Descent         1887\n",
       "Go-around       1353\n",
       "Standing         945\n",
       "Unknown          548\n",
       "Other            119\n",
       "Name: Broad.phase.of.flight, dtype: int64"
      ]
     },
     "execution_count": 31,
     "metadata": {},
     "output_type": "execute_result"
    }
   ],
   "source": [
    "df[\"Broad.phase.of.flight\"].value_counts()\n",
    "#majour accidents caused at landing \n",
    "#bar graph"
   ]
  },
  {
   "cell_type": "markdown",
   "metadata": {},
   "source": [
    "# groupby to compare the data between phase of flight and weather conditions"
   ]
  },
  {
   "cell_type": "markdown",
   "metadata": {},
   "source": [
    "# recomendations\n",
    "* train pilots on landing\n",
    "* record more inflight weather conditions\n",
    "****"
   ]
  },
  {
   "cell_type": "code",
   "execution_count": 38,
   "metadata": {},
   "outputs": [
    {
     "data": {
      "text/plain": [
       "1        Probable Cause\n",
       "2        Probable Cause\n",
       "3        Probable Cause\n",
       "4        Probable Cause\n",
       "5        Probable Cause\n",
       "              ...      \n",
       "88885                  \n",
       "88886                  \n",
       "88887                  \n",
       "88888                  \n",
       "88889                  \n",
       "Name: Report.Status, Length: 88889, dtype: object"
      ]
     },
     "execution_count": 38,
     "metadata": {},
     "output_type": "execute_result"
    }
   ],
   "source": [
    "df['Report.Status']"
   ]
  },
  {
   "cell_type": "code",
   "execution_count": 42,
   "metadata": {},
   "outputs": [
    {
     "data": {
      "text/plain": [
       "United States                    82248\n",
       "Brazil                             374\n",
       "Canada                             359\n",
       "Mexico                             358\n",
       "United Kingdom                     344\n",
       "                                 ...  \n",
       "Yemen                                1\n",
       "Ivory Coast                          1\n",
       "Albania                              1\n",
       "St Vincent And The Grenadines        1\n",
       "Libya                                1\n",
       "Name: Country, Length: 220, dtype: int64"
      ]
     },
     "execution_count": 42,
     "metadata": {},
     "output_type": "execute_result"
    }
   ],
   "source": [
    "df['Country'].value_counts()"
   ]
  },
  {
   "cell_type": "code",
   "execution_count": 43,
   "metadata": {},
   "outputs": [
    {
     "data": {
      "text/plain": [
       "1                          \n",
       "2                          \n",
       "3                          \n",
       "4                          \n",
       "5                          \n",
       "                ...        \n",
       "88885                      \n",
       "88886                      \n",
       "88887                      \n",
       "88888    MC CESSNA 210N LLC\n",
       "88889                      \n",
       "Name: Air.carrier, Length: 88889, dtype: object"
      ]
     },
     "execution_count": 43,
     "metadata": {},
     "output_type": "execute_result"
    }
   ],
   "source": []
  },
  {
   "cell_type": "code",
   "execution_count": null,
   "metadata": {},
   "outputs": [],
   "source": []
  }
 ],
 "metadata": {
  "kernelspec": {
   "display_name": "Python (learn-env)",
   "language": "python",
   "name": "learn-env"
  },
  "language_info": {
   "codemirror_mode": {
    "name": "ipython",
    "version": 3
   },
   "file_extension": ".py",
   "mimetype": "text/x-python",
   "name": "python",
   "nbconvert_exporter": "python",
   "pygments_lexer": "ipython3",
   "version": "3.8.5"
  }
 },
 "nbformat": 4,
 "nbformat_minor": 4
}
