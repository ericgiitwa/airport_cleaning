{
 "cells": [
  {
   "cell_type": "markdown",
   "metadata": {},
   "source": [
    "# Aviation_Accident_Database_Project\n",
    "## Introduction\n",
    "\n",
    "This presentation will explore the main reasons behind aviation accidents dating back to 1948.\n",
    "We aim to identify patterns and causes to provide suggestions for improving the safety of air travel."
   ]
  },
  {
   "cell_type": "markdown",
   "metadata": {},
   "source": [
    "## objectives\n",
    "* to clean up the data\n",
    "* to find out the number of accidents that have happened \n",
    "* to find out how many passangers were injured or killed\n",
    "* to find out the cause of the crashes\n",
    "* what is the majour contribution to accidents (pilot error or other)\n",
    "* airline with most accidents\n",
    "* country with most accidents\n"
   ]
  },
  {
   "cell_type": "markdown",
   "metadata": {},
   "source": [
    "### Loading files"
   ]
  },
  {
   "cell_type": "code",
   "execution_count": 36,
   "metadata": {},
   "outputs": [],
   "source": [
    "#importing the necesarry libraries\n",
    "import pandas as pd\n",
    "import numpy as np\n",
    "import json\n",
    "import csv\n",
    "import matplotlib.pyplot as plt\n",
    "%matplotlib inline"
   ]
  },
  {
   "cell_type": "code",
   "execution_count": 37,
   "metadata": {},
   "outputs": [
    {
     "name": "stdout",
     "output_type": "stream",
     "text": [
      "AviationData.csv\n",
      "Aviation_Accident_Database_Project.ipynb\n",
      "Project_powerpoint_pdf\n",
      "README.md\n",
      "USState_Codes.csv\n",
      "tableau worksheet\n",
      "~tableau worksheet__11420.twbr\n"
     ]
    }
   ],
   "source": [
    "#checking the files in the folder\n",
    "!ls    "
   ]
  },
  {
   "cell_type": "code",
   "execution_count": 38,
   "metadata": {},
   "outputs": [
    {
     "data": {
      "text/html": [
       "<div>\n",
       "<style scoped>\n",
       "    .dataframe tbody tr th:only-of-type {\n",
       "        vertical-align: middle;\n",
       "    }\n",
       "\n",
       "    .dataframe tbody tr th {\n",
       "        vertical-align: top;\n",
       "    }\n",
       "\n",
       "    .dataframe thead th {\n",
       "        text-align: right;\n",
       "    }\n",
       "</style>\n",
       "<table border=\"1\" class=\"dataframe\">\n",
       "  <thead>\n",
       "    <tr style=\"text-align: right;\">\n",
       "      <th></th>\n",
       "      <th>0</th>\n",
       "      <th>1</th>\n",
       "      <th>2</th>\n",
       "      <th>3</th>\n",
       "      <th>4</th>\n",
       "      <th>5</th>\n",
       "      <th>6</th>\n",
       "      <th>7</th>\n",
       "      <th>8</th>\n",
       "      <th>9</th>\n",
       "      <th>...</th>\n",
       "      <th>21</th>\n",
       "      <th>22</th>\n",
       "      <th>23</th>\n",
       "      <th>24</th>\n",
       "      <th>25</th>\n",
       "      <th>26</th>\n",
       "      <th>27</th>\n",
       "      <th>28</th>\n",
       "      <th>29</th>\n",
       "      <th>30</th>\n",
       "    </tr>\n",
       "  </thead>\n",
       "  <tbody>\n",
       "    <tr>\n",
       "      <th>0</th>\n",
       "      <td>Event.Id</td>\n",
       "      <td>Investigation.Type</td>\n",
       "      <td>Accident.Number</td>\n",
       "      <td>Event.Date</td>\n",
       "      <td>Location</td>\n",
       "      <td>Country</td>\n",
       "      <td>Latitude</td>\n",
       "      <td>Longitude</td>\n",
       "      <td>Airport.Code</td>\n",
       "      <td>Airport.Name</td>\n",
       "      <td>...</td>\n",
       "      <td>Purpose.of.flight</td>\n",
       "      <td>Air.carrier</td>\n",
       "      <td>Total.Fatal.Injuries</td>\n",
       "      <td>Total.Serious.Injuries</td>\n",
       "      <td>Total.Minor.Injuries</td>\n",
       "      <td>Total.Uninjured</td>\n",
       "      <td>Weather.Condition</td>\n",
       "      <td>Broad.phase.of.flight</td>\n",
       "      <td>Report.Status</td>\n",
       "      <td>Publication.Date</td>\n",
       "    </tr>\n",
       "    <tr>\n",
       "      <th>1</th>\n",
       "      <td>20001218X45444</td>\n",
       "      <td>Accident</td>\n",
       "      <td>SEA87LA080</td>\n",
       "      <td>1948-10-24</td>\n",
       "      <td>MOOSE CREEK, ID</td>\n",
       "      <td>United States</td>\n",
       "      <td></td>\n",
       "      <td></td>\n",
       "      <td></td>\n",
       "      <td></td>\n",
       "      <td>...</td>\n",
       "      <td>Personal</td>\n",
       "      <td></td>\n",
       "      <td>2</td>\n",
       "      <td>0</td>\n",
       "      <td>0</td>\n",
       "      <td>0</td>\n",
       "      <td>UNK</td>\n",
       "      <td>Cruise</td>\n",
       "      <td>Probable Cause</td>\n",
       "      <td></td>\n",
       "    </tr>\n",
       "    <tr>\n",
       "      <th>2</th>\n",
       "      <td>20001218X45447</td>\n",
       "      <td>Accident</td>\n",
       "      <td>LAX94LA336</td>\n",
       "      <td>1962-07-19</td>\n",
       "      <td>BRIDGEPORT, CA</td>\n",
       "      <td>United States</td>\n",
       "      <td></td>\n",
       "      <td></td>\n",
       "      <td></td>\n",
       "      <td></td>\n",
       "      <td>...</td>\n",
       "      <td>Personal</td>\n",
       "      <td></td>\n",
       "      <td>4</td>\n",
       "      <td>0</td>\n",
       "      <td>0</td>\n",
       "      <td>0</td>\n",
       "      <td>UNK</td>\n",
       "      <td>Unknown</td>\n",
       "      <td>Probable Cause</td>\n",
       "      <td>19-09-1996</td>\n",
       "    </tr>\n",
       "    <tr>\n",
       "      <th>3</th>\n",
       "      <td>20061025X01555</td>\n",
       "      <td>Accident</td>\n",
       "      <td>NYC07LA005</td>\n",
       "      <td>1974-08-30</td>\n",
       "      <td>Saltville, VA</td>\n",
       "      <td>United States</td>\n",
       "      <td>36.922223</td>\n",
       "      <td>-81.878056</td>\n",
       "      <td></td>\n",
       "      <td></td>\n",
       "      <td>...</td>\n",
       "      <td>Personal</td>\n",
       "      <td></td>\n",
       "      <td>3</td>\n",
       "      <td></td>\n",
       "      <td></td>\n",
       "      <td></td>\n",
       "      <td>IMC</td>\n",
       "      <td>Cruise</td>\n",
       "      <td>Probable Cause</td>\n",
       "      <td>26-02-2007</td>\n",
       "    </tr>\n",
       "    <tr>\n",
       "      <th>4</th>\n",
       "      <td>20001218X45448</td>\n",
       "      <td>Accident</td>\n",
       "      <td>LAX96LA321</td>\n",
       "      <td>1977-06-19</td>\n",
       "      <td>EUREKA, CA</td>\n",
       "      <td>United States</td>\n",
       "      <td></td>\n",
       "      <td></td>\n",
       "      <td></td>\n",
       "      <td></td>\n",
       "      <td>...</td>\n",
       "      <td>Personal</td>\n",
       "      <td></td>\n",
       "      <td>2</td>\n",
       "      <td>0</td>\n",
       "      <td>0</td>\n",
       "      <td>0</td>\n",
       "      <td>IMC</td>\n",
       "      <td>Cruise</td>\n",
       "      <td>Probable Cause</td>\n",
       "      <td>12-09-2000</td>\n",
       "    </tr>\n",
       "  </tbody>\n",
       "</table>\n",
       "<p>5 rows × 31 columns</p>\n",
       "</div>"
      ],
      "text/plain": [
       "               0                   1                2           3   \\\n",
       "0        Event.Id  Investigation.Type  Accident.Number  Event.Date   \n",
       "1  20001218X45444            Accident       SEA87LA080  1948-10-24   \n",
       "2  20001218X45447            Accident       LAX94LA336  1962-07-19   \n",
       "3  20061025X01555            Accident       NYC07LA005  1974-08-30   \n",
       "4  20001218X45448            Accident       LAX96LA321  1977-06-19   \n",
       "\n",
       "                4              5          6           7             8   \\\n",
       "0         Location        Country   Latitude   Longitude  Airport.Code   \n",
       "1  MOOSE CREEK, ID  United States                                        \n",
       "2   BRIDGEPORT, CA  United States                                        \n",
       "3    Saltville, VA  United States  36.922223  -81.878056                 \n",
       "4       EUREKA, CA  United States                                        \n",
       "\n",
       "             9   ...                 21           22                    23  \\\n",
       "0  Airport.Name  ...  Purpose.of.flight  Air.carrier  Total.Fatal.Injuries   \n",
       "1                ...           Personal                                  2   \n",
       "2                ...           Personal                                  4   \n",
       "3                ...           Personal                                  3   \n",
       "4                ...           Personal                                  2   \n",
       "\n",
       "                       24                    25               26  \\\n",
       "0  Total.Serious.Injuries  Total.Minor.Injuries  Total.Uninjured   \n",
       "1                       0                     0                0   \n",
       "2                       0                     0                0   \n",
       "3                                                                  \n",
       "4                       0                     0                0   \n",
       "\n",
       "                  27                     28              29                30  \n",
       "0  Weather.Condition  Broad.phase.of.flight   Report.Status  Publication.Date  \n",
       "1                UNK                 Cruise  Probable Cause                    \n",
       "2                UNK                Unknown  Probable Cause        19-09-1996  \n",
       "3                IMC                 Cruise  Probable Cause        26-02-2007  \n",
       "4                IMC                 Cruise  Probable Cause        12-09-2000  \n",
       "\n",
       "[5 rows x 31 columns]"
      ]
     },
     "execution_count": 38,
     "metadata": {},
     "output_type": "execute_result"
    }
   ],
   "source": [
    "#loading the first file (\"AviationData.csv\")\n",
    "with open(\"AviationData.csv\") as f:\n",
    "    reader = csv.reader(f)\n",
    "    data = list(reader)  \n",
    "df = pd.DataFrame(data)\n",
    "df.head()\n",
    "# most of the columns appear to be empty but do not contain the NaN"
   ]
  },
  {
   "cell_type": "code",
   "execution_count": 39,
   "metadata": {},
   "outputs": [
    {
     "data": {
      "text/html": [
       "<div>\n",
       "<style scoped>\n",
       "    .dataframe tbody tr th:only-of-type {\n",
       "        vertical-align: middle;\n",
       "    }\n",
       "\n",
       "    .dataframe tbody tr th {\n",
       "        vertical-align: top;\n",
       "    }\n",
       "\n",
       "    .dataframe thead th {\n",
       "        text-align: right;\n",
       "    }\n",
       "</style>\n",
       "<table border=\"1\" class=\"dataframe\">\n",
       "  <thead>\n",
       "    <tr style=\"text-align: right;\">\n",
       "      <th></th>\n",
       "      <th>US_State</th>\n",
       "      <th>Abbreviation</th>\n",
       "    </tr>\n",
       "  </thead>\n",
       "  <tbody>\n",
       "    <tr>\n",
       "      <th>0</th>\n",
       "      <td>Alabama</td>\n",
       "      <td>AL</td>\n",
       "    </tr>\n",
       "    <tr>\n",
       "      <th>1</th>\n",
       "      <td>Alaska</td>\n",
       "      <td>AK</td>\n",
       "    </tr>\n",
       "    <tr>\n",
       "      <th>2</th>\n",
       "      <td>Arizona</td>\n",
       "      <td>AZ</td>\n",
       "    </tr>\n",
       "    <tr>\n",
       "      <th>3</th>\n",
       "      <td>Arkansas</td>\n",
       "      <td>AR</td>\n",
       "    </tr>\n",
       "    <tr>\n",
       "      <th>4</th>\n",
       "      <td>California</td>\n",
       "      <td>CA</td>\n",
       "    </tr>\n",
       "  </tbody>\n",
       "</table>\n",
       "</div>"
      ],
      "text/plain": [
       "     US_State Abbreviation\n",
       "0     Alabama           AL\n",
       "1      Alaska           AK\n",
       "2     Arizona           AZ\n",
       "3    Arkansas           AR\n",
       "4  California           CA"
      ]
     },
     "execution_count": 39,
     "metadata": {},
     "output_type": "execute_result"
    }
   ],
   "source": [
    "#loading the second file\n",
    "codes = pd.read_csv(\"USState_Codes.csv\")\n",
    "codes.head()\n",
    "# since the first data set has ['Location'] and we are focusing on the country of the incidents there is no need to further look into each state"
   ]
  },
  {
   "cell_type": "markdown",
   "metadata": {},
   "source": [
    "### Analysing  the dataset and looking for missing values"
   ]
  },
  {
   "cell_type": "code",
   "execution_count": 40,
   "metadata": {
    "scrolled": true
   },
   "outputs": [
    {
     "name": "stdout",
     "output_type": "stream",
     "text": [
      "<class 'pandas.core.frame.DataFrame'>\n",
      "RangeIndex: 88890 entries, 0 to 88889\n",
      "Data columns (total 31 columns):\n",
      " #   Column  Non-Null Count  Dtype \n",
      "---  ------  --------------  ----- \n",
      " 0   0       88890 non-null  object\n",
      " 1   1       88890 non-null  object\n",
      " 2   2       88890 non-null  object\n",
      " 3   3       88890 non-null  object\n",
      " 4   4       88890 non-null  object\n",
      " 5   5       88890 non-null  object\n",
      " 6   6       88890 non-null  object\n",
      " 7   7       88890 non-null  object\n",
      " 8   8       88890 non-null  object\n",
      " 9   9       88890 non-null  object\n",
      " 10  10      88890 non-null  object\n",
      " 11  11      88890 non-null  object\n",
      " 12  12      88890 non-null  object\n",
      " 13  13      88890 non-null  object\n",
      " 14  14      88890 non-null  object\n",
      " 15  15      88890 non-null  object\n",
      " 16  16      88890 non-null  object\n",
      " 17  17      88890 non-null  object\n",
      " 18  18      88890 non-null  object\n",
      " 19  19      88890 non-null  object\n",
      " 20  20      88890 non-null  object\n",
      " 21  21      88890 non-null  object\n",
      " 22  22      88890 non-null  object\n",
      " 23  23      88890 non-null  object\n",
      " 24  24      88890 non-null  object\n",
      " 25  25      88890 non-null  object\n",
      " 26  26      88890 non-null  object\n",
      " 27  27      88890 non-null  object\n",
      " 28  28      88890 non-null  object\n",
      " 29  29      88890 non-null  object\n",
      " 30  30      88890 non-null  object\n",
      "dtypes: object(31)\n",
      "memory usage: 21.0+ MB\n"
     ]
    }
   ],
   "source": [
    "df.info()"
   ]
  },
  {
   "cell_type": "code",
   "execution_count": 41,
   "metadata": {},
   "outputs": [
    {
     "data": {
      "text/plain": [
       "(88890, 31)"
      ]
     },
     "execution_count": 41,
     "metadata": {},
     "output_type": "execute_result"
    }
   ],
   "source": [
    "df.shape"
   ]
  },
  {
   "cell_type": "markdown",
   "metadata": {},
   "source": [
    "### Aviation data seems to not have a propper title, hence i will have to make the first(0) row into a title row\n"
   ]
  },
  {
   "cell_type": "code",
   "execution_count": 42,
   "metadata": {},
   "outputs": [
    {
     "data": {
      "text/plain": [
       "RangeIndex(start=0, stop=31, step=1)"
      ]
     },
     "execution_count": 42,
     "metadata": {},
     "output_type": "execute_result"
    }
   ],
   "source": [
    "df.columns #cecking initial column names to confirm"
   ]
  },
  {
   "cell_type": "code",
   "execution_count": 43,
   "metadata": {},
   "outputs": [
    {
     "data": {
      "text/plain": [
       "Index(['Event.Id', 'Investigation.Type', 'Accident.Number', 'Event.Date',\n",
       "       'Location', 'Country', 'Latitude', 'Longitude', 'Airport.Code',\n",
       "       'Airport.Name', 'Injury.Severity', 'Aircraft.damage',\n",
       "       'Aircraft.Category', 'Registration.Number', 'Make', 'Model',\n",
       "       'Amateur.Built', 'Number.of.Engines', 'Engine.Type', 'FAR.Description',\n",
       "       'Schedule', 'Purpose.of.flight', 'Air.carrier', 'Total.Fatal.Injuries',\n",
       "       'Total.Serious.Injuries', 'Total.Minor.Injuries', 'Total.Uninjured',\n",
       "       'Weather.Condition', 'Broad.phase.of.flight', 'Report.Status',\n",
       "       'Publication.Date'],\n",
       "      dtype='object', name=0)"
      ]
     },
     "execution_count": 43,
     "metadata": {},
     "output_type": "execute_result"
    }
   ],
   "source": [
    "df.columns = df.iloc[0] #replacing the column names with the first row\n",
    "df.columns #calling to confirm the changes made"
   ]
  },
  {
   "cell_type": "code",
   "execution_count": 44,
   "metadata": {},
   "outputs": [],
   "source": [
    "df = df.drop(0) #dropping the first row as it contained the column titles"
   ]
  },
  {
   "cell_type": "code",
   "execution_count": 45,
   "metadata": {
    "scrolled": true
   },
   "outputs": [
    {
     "data": {
      "text/plain": [
       "0\n",
       "Event.Id                  0\n",
       "Investigation.Type        0\n",
       "Accident.Number           0\n",
       "Event.Date                0\n",
       "Location                  0\n",
       "Country                   0\n",
       "Latitude                  0\n",
       "Longitude                 0\n",
       "Airport.Code              0\n",
       "Airport.Name              0\n",
       "Injury.Severity           0\n",
       "Aircraft.damage           0\n",
       "Aircraft.Category         0\n",
       "Registration.Number       0\n",
       "Make                      0\n",
       "Model                     0\n",
       "Amateur.Built             0\n",
       "Number.of.Engines         0\n",
       "Engine.Type               0\n",
       "FAR.Description           0\n",
       "Schedule                  0\n",
       "Purpose.of.flight         0\n",
       "Air.carrier               0\n",
       "Total.Fatal.Injuries      0\n",
       "Total.Serious.Injuries    0\n",
       "Total.Minor.Injuries      0\n",
       "Total.Uninjured           0\n",
       "Weather.Condition         0\n",
       "Broad.phase.of.flight     0\n",
       "Report.Status             0\n",
       "Publication.Date          0\n",
       "dtype: int64"
      ]
     },
     "execution_count": 45,
     "metadata": {},
     "output_type": "execute_result"
    }
   ],
   "source": [
    "df.isna().sum() #doesnt work as the sells contain ' ' and is  non-null"
   ]
  },
  {
   "cell_type": "code",
   "execution_count": 46,
   "metadata": {
    "scrolled": true
   },
   "outputs": [
    {
     "data": {
      "text/plain": [
       "{'Event.Id': 0,\n",
       " 'Investigation.Type': 0,\n",
       " 'Accident.Number': 0,\n",
       " 'Event.Date': 0,\n",
       " 'Location': 88692,\n",
       " 'Country': 83485,\n",
       " 'Latitude': 0,\n",
       " 'Longitude': 0,\n",
       " 'Airport.Code': 5,\n",
       " 'Airport.Name': 41222,\n",
       " 'Injury.Severity': 0,\n",
       " 'Aircraft.damage': 0,\n",
       " 'Aircraft.Category': 91,\n",
       " 'Registration.Number': 21,\n",
       " 'Make': 12388,\n",
       " 'Model': 10933,\n",
       " 'Amateur.Built': 0,\n",
       " 'Number.of.Engines': 0,\n",
       " 'Engine.Type': 10197,\n",
       " 'FAR.Description': 7737,\n",
       " 'Schedule': 0,\n",
       " 'Purpose.of.flight': 8584,\n",
       " 'Air.carrier': 15997,\n",
       " 'Total.Fatal.Injuries': 0,\n",
       " 'Total.Serious.Injuries': 0,\n",
       " 'Total.Minor.Injuries': 0,\n",
       " 'Total.Uninjured': 0,\n",
       " 'Weather.Condition': 0,\n",
       " 'Broad.phase.of.flight': 0,\n",
       " 'Report.Status': 80303,\n",
       " 'Publication.Date': 0}"
      ]
     },
     "execution_count": 46,
     "metadata": {},
     "output_type": "execute_result"
    }
   ],
   "source": [
    "#looping each column to find empty cells containing '' as they do not contribute to the dataset\n",
    "results = {}\n",
    "for col in df.columns:\n",
    "    count = df[col].str.contains(' ').sum()\n",
    "    results[col] = count\n",
    "results"
   ]
  },
  {
   "cell_type": "code",
   "execution_count": 47,
   "metadata": {},
   "outputs": [],
   "source": [
    "#dropping mostly empty columns \n",
    "df.drop(columns=['Number.of.Engines','Latitude','Airport.Name','Airport.Code','Airport.Code','Longitude','Air.carrier', 'Aircraft.Category', 'Schedule', 'FAR.Description', 'Registration.Number','Model','Make','Engine.Type', 'Purpose.of.flight'], inplace=True)\n",
    "#keeping country and location as it is important in my analysis"
   ]
  },
  {
   "cell_type": "code",
   "execution_count": 48,
   "metadata": {},
   "outputs": [
    {
     "data": {
      "text/plain": [
       "(88889, 17)"
      ]
     },
     "execution_count": 48,
     "metadata": {},
     "output_type": "execute_result"
    }
   ],
   "source": [
    "df.shape  #previous shape = (88890, 31)"
   ]
  },
  {
   "cell_type": "code",
   "execution_count": 49,
   "metadata": {},
   "outputs": [
    {
     "data": {
      "text/html": [
       "<div>\n",
       "<style scoped>\n",
       "    .dataframe tbody tr th:only-of-type {\n",
       "        vertical-align: middle;\n",
       "    }\n",
       "\n",
       "    .dataframe tbody tr th {\n",
       "        vertical-align: top;\n",
       "    }\n",
       "\n",
       "    .dataframe thead th {\n",
       "        text-align: right;\n",
       "    }\n",
       "</style>\n",
       "<table border=\"1\" class=\"dataframe\">\n",
       "  <thead>\n",
       "    <tr style=\"text-align: right;\">\n",
       "      <th></th>\n",
       "      <th>Event.Id</th>\n",
       "      <th>Investigation.Type</th>\n",
       "      <th>Accident.Number</th>\n",
       "      <th>Event.Date</th>\n",
       "      <th>Location</th>\n",
       "      <th>Country</th>\n",
       "      <th>Injury.Severity</th>\n",
       "      <th>Aircraft.damage</th>\n",
       "      <th>Amateur.Built</th>\n",
       "      <th>Total.Fatal.Injuries</th>\n",
       "      <th>Total.Serious.Injuries</th>\n",
       "      <th>Total.Minor.Injuries</th>\n",
       "      <th>Total.Uninjured</th>\n",
       "      <th>Weather.Condition</th>\n",
       "      <th>Broad.phase.of.flight</th>\n",
       "      <th>Report.Status</th>\n",
       "      <th>Publication.Date</th>\n",
       "    </tr>\n",
       "  </thead>\n",
       "  <tbody>\n",
       "    <tr>\n",
       "      <th>count</th>\n",
       "      <td>88889</td>\n",
       "      <td>88889</td>\n",
       "      <td>88889</td>\n",
       "      <td>88889</td>\n",
       "      <td>88889</td>\n",
       "      <td>88889</td>\n",
       "      <td>88889</td>\n",
       "      <td>88889</td>\n",
       "      <td>88889</td>\n",
       "      <td>88889</td>\n",
       "      <td>88889</td>\n",
       "      <td>88889</td>\n",
       "      <td>88889</td>\n",
       "      <td>88889</td>\n",
       "      <td>88889</td>\n",
       "      <td>88889</td>\n",
       "      <td>88889</td>\n",
       "    </tr>\n",
       "    <tr>\n",
       "      <th>unique</th>\n",
       "      <td>87951</td>\n",
       "      <td>2</td>\n",
       "      <td>88863</td>\n",
       "      <td>14782</td>\n",
       "      <td>27759</td>\n",
       "      <td>220</td>\n",
       "      <td>110</td>\n",
       "      <td>5</td>\n",
       "      <td>3</td>\n",
       "      <td>126</td>\n",
       "      <td>51</td>\n",
       "      <td>58</td>\n",
       "      <td>380</td>\n",
       "      <td>5</td>\n",
       "      <td>13</td>\n",
       "      <td>17077</td>\n",
       "      <td>2925</td>\n",
       "    </tr>\n",
       "    <tr>\n",
       "      <th>top</th>\n",
       "      <td>20001212X19172</td>\n",
       "      <td>Accident</td>\n",
       "      <td>DCA22WA089</td>\n",
       "      <td>1984-06-30</td>\n",
       "      <td>ANCHORAGE, AK</td>\n",
       "      <td>United States</td>\n",
       "      <td>Non-Fatal</td>\n",
       "      <td>Substantial</td>\n",
       "      <td>No</td>\n",
       "      <td>0</td>\n",
       "      <td>0</td>\n",
       "      <td>0</td>\n",
       "      <td>0</td>\n",
       "      <td>VMC</td>\n",
       "      <td></td>\n",
       "      <td>Probable Cause</td>\n",
       "      <td>25-09-2020</td>\n",
       "    </tr>\n",
       "    <tr>\n",
       "      <th>freq</th>\n",
       "      <td>3</td>\n",
       "      <td>85015</td>\n",
       "      <td>2</td>\n",
       "      <td>25</td>\n",
       "      <td>434</td>\n",
       "      <td>82248</td>\n",
       "      <td>67357</td>\n",
       "      <td>64148</td>\n",
       "      <td>80312</td>\n",
       "      <td>59675</td>\n",
       "      <td>63289</td>\n",
       "      <td>61454</td>\n",
       "      <td>29879</td>\n",
       "      <td>77303</td>\n",
       "      <td>27165</td>\n",
       "      <td>61754</td>\n",
       "      <td>17019</td>\n",
       "    </tr>\n",
       "  </tbody>\n",
       "</table>\n",
       "</div>"
      ],
      "text/plain": [
       "0             Event.Id Investigation.Type Accident.Number  Event.Date  \\\n",
       "count            88889              88889           88889       88889   \n",
       "unique           87951                  2           88863       14782   \n",
       "top     20001212X19172           Accident      DCA22WA089  1984-06-30   \n",
       "freq                 3              85015               2          25   \n",
       "\n",
       "0            Location        Country Injury.Severity Aircraft.damage  \\\n",
       "count           88889          88889           88889           88889   \n",
       "unique          27759            220             110               5   \n",
       "top     ANCHORAGE, AK  United States       Non-Fatal     Substantial   \n",
       "freq              434          82248           67357           64148   \n",
       "\n",
       "0      Amateur.Built Total.Fatal.Injuries Total.Serious.Injuries  \\\n",
       "count          88889                88889                  88889   \n",
       "unique             3                  126                     51   \n",
       "top               No                    0                      0   \n",
       "freq           80312                59675                  63289   \n",
       "\n",
       "0      Total.Minor.Injuries Total.Uninjured Weather.Condition  \\\n",
       "count                 88889           88889             88889   \n",
       "unique                   58             380                 5   \n",
       "top                       0               0               VMC   \n",
       "freq                  61454           29879             77303   \n",
       "\n",
       "0      Broad.phase.of.flight   Report.Status Publication.Date  \n",
       "count                  88889           88889            88889  \n",
       "unique                    13           17077             2925  \n",
       "top                           Probable Cause       25-09-2020  \n",
       "freq                   27165           61754            17019  "
      ]
     },
     "execution_count": 49,
     "metadata": {},
     "output_type": "execute_result"
    }
   ],
   "source": [
    "df.describe()"
   ]
  },
  {
   "cell_type": "code",
   "execution_count": 50,
   "metadata": {},
   "outputs": [
    {
     "data": {
      "text/html": [
       "<div>\n",
       "<style scoped>\n",
       "    .dataframe tbody tr th:only-of-type {\n",
       "        vertical-align: middle;\n",
       "    }\n",
       "\n",
       "    .dataframe tbody tr th {\n",
       "        vertical-align: top;\n",
       "    }\n",
       "\n",
       "    .dataframe thead th {\n",
       "        text-align: right;\n",
       "    }\n",
       "</style>\n",
       "<table border=\"1\" class=\"dataframe\">\n",
       "  <thead>\n",
       "    <tr style=\"text-align: right;\">\n",
       "      <th></th>\n",
       "      <th>Event.Id</th>\n",
       "      <th>Investigation.Type</th>\n",
       "      <th>Accident.Number</th>\n",
       "      <th>Event.Date</th>\n",
       "      <th>Location</th>\n",
       "      <th>Country</th>\n",
       "      <th>Injury.Severity</th>\n",
       "      <th>Aircraft.damage</th>\n",
       "      <th>Amateur.Built</th>\n",
       "      <th>Total.Fatal.Injuries</th>\n",
       "      <th>Total.Serious.Injuries</th>\n",
       "      <th>Total.Minor.Injuries</th>\n",
       "      <th>Total.Uninjured</th>\n",
       "      <th>Weather.Condition</th>\n",
       "      <th>Broad.phase.of.flight</th>\n",
       "      <th>Report.Status</th>\n",
       "      <th>Publication.Date</th>\n",
       "    </tr>\n",
       "  </thead>\n",
       "  <tbody>\n",
       "    <tr>\n",
       "      <th>1</th>\n",
       "      <td>20001218X45444</td>\n",
       "      <td>Accident</td>\n",
       "      <td>SEA87LA080</td>\n",
       "      <td>1948-10-24</td>\n",
       "      <td>MOOSE CREEK, ID</td>\n",
       "      <td>United States</td>\n",
       "      <td>Fatal(2)</td>\n",
       "      <td>Destroyed</td>\n",
       "      <td>No</td>\n",
       "      <td>2</td>\n",
       "      <td>0</td>\n",
       "      <td>0</td>\n",
       "      <td>0</td>\n",
       "      <td>UNK</td>\n",
       "      <td>Cruise</td>\n",
       "      <td>Probable Cause</td>\n",
       "      <td></td>\n",
       "    </tr>\n",
       "    <tr>\n",
       "      <th>2</th>\n",
       "      <td>20001218X45447</td>\n",
       "      <td>Accident</td>\n",
       "      <td>LAX94LA336</td>\n",
       "      <td>1962-07-19</td>\n",
       "      <td>BRIDGEPORT, CA</td>\n",
       "      <td>United States</td>\n",
       "      <td>Fatal(4)</td>\n",
       "      <td>Destroyed</td>\n",
       "      <td>No</td>\n",
       "      <td>4</td>\n",
       "      <td>0</td>\n",
       "      <td>0</td>\n",
       "      <td>0</td>\n",
       "      <td>UNK</td>\n",
       "      <td>Unknown</td>\n",
       "      <td>Probable Cause</td>\n",
       "      <td>19-09-1996</td>\n",
       "    </tr>\n",
       "    <tr>\n",
       "      <th>3</th>\n",
       "      <td>20061025X01555</td>\n",
       "      <td>Accident</td>\n",
       "      <td>NYC07LA005</td>\n",
       "      <td>1974-08-30</td>\n",
       "      <td>Saltville, VA</td>\n",
       "      <td>United States</td>\n",
       "      <td>Fatal(3)</td>\n",
       "      <td>Destroyed</td>\n",
       "      <td>No</td>\n",
       "      <td>3</td>\n",
       "      <td></td>\n",
       "      <td></td>\n",
       "      <td></td>\n",
       "      <td>IMC</td>\n",
       "      <td>Cruise</td>\n",
       "      <td>Probable Cause</td>\n",
       "      <td>26-02-2007</td>\n",
       "    </tr>\n",
       "    <tr>\n",
       "      <th>4</th>\n",
       "      <td>20001218X45448</td>\n",
       "      <td>Accident</td>\n",
       "      <td>LAX96LA321</td>\n",
       "      <td>1977-06-19</td>\n",
       "      <td>EUREKA, CA</td>\n",
       "      <td>United States</td>\n",
       "      <td>Fatal(2)</td>\n",
       "      <td>Destroyed</td>\n",
       "      <td>No</td>\n",
       "      <td>2</td>\n",
       "      <td>0</td>\n",
       "      <td>0</td>\n",
       "      <td>0</td>\n",
       "      <td>IMC</td>\n",
       "      <td>Cruise</td>\n",
       "      <td>Probable Cause</td>\n",
       "      <td>12-09-2000</td>\n",
       "    </tr>\n",
       "    <tr>\n",
       "      <th>5</th>\n",
       "      <td>20041105X01764</td>\n",
       "      <td>Accident</td>\n",
       "      <td>CHI79FA064</td>\n",
       "      <td>1979-08-02</td>\n",
       "      <td>Canton, OH</td>\n",
       "      <td>United States</td>\n",
       "      <td>Fatal(1)</td>\n",
       "      <td>Destroyed</td>\n",
       "      <td>No</td>\n",
       "      <td>1</td>\n",
       "      <td>2</td>\n",
       "      <td></td>\n",
       "      <td>0</td>\n",
       "      <td>VMC</td>\n",
       "      <td>Approach</td>\n",
       "      <td>Probable Cause</td>\n",
       "      <td>16-04-1980</td>\n",
       "    </tr>\n",
       "  </tbody>\n",
       "</table>\n",
       "</div>"
      ],
      "text/plain": [
       "0        Event.Id Investigation.Type Accident.Number  Event.Date  \\\n",
       "1  20001218X45444           Accident      SEA87LA080  1948-10-24   \n",
       "2  20001218X45447           Accident      LAX94LA336  1962-07-19   \n",
       "3  20061025X01555           Accident      NYC07LA005  1974-08-30   \n",
       "4  20001218X45448           Accident      LAX96LA321  1977-06-19   \n",
       "5  20041105X01764           Accident      CHI79FA064  1979-08-02   \n",
       "\n",
       "0         Location        Country Injury.Severity Aircraft.damage  \\\n",
       "1  MOOSE CREEK, ID  United States        Fatal(2)       Destroyed   \n",
       "2   BRIDGEPORT, CA  United States        Fatal(4)       Destroyed   \n",
       "3    Saltville, VA  United States        Fatal(3)       Destroyed   \n",
       "4       EUREKA, CA  United States        Fatal(2)       Destroyed   \n",
       "5       Canton, OH  United States        Fatal(1)       Destroyed   \n",
       "\n",
       "0 Amateur.Built Total.Fatal.Injuries Total.Serious.Injuries  \\\n",
       "1            No                    2                      0   \n",
       "2            No                    4                      0   \n",
       "3            No                    3                          \n",
       "4            No                    2                      0   \n",
       "5            No                    1                      2   \n",
       "\n",
       "0 Total.Minor.Injuries Total.Uninjured Weather.Condition  \\\n",
       "1                    0               0               UNK   \n",
       "2                    0               0               UNK   \n",
       "3                                                    IMC   \n",
       "4                    0               0               IMC   \n",
       "5                                    0               VMC   \n",
       "\n",
       "0 Broad.phase.of.flight   Report.Status Publication.Date  \n",
       "1                Cruise  Probable Cause                   \n",
       "2               Unknown  Probable Cause       19-09-1996  \n",
       "3                Cruise  Probable Cause       26-02-2007  \n",
       "4                Cruise  Probable Cause       12-09-2000  \n",
       "5              Approach  Probable Cause       16-04-1980  "
      ]
     },
     "execution_count": 50,
     "metadata": {},
     "output_type": "execute_result"
    }
   ],
   "source": [
    "df.head() #confirming changes"
   ]
  },
  {
   "cell_type": "markdown",
   "metadata": {},
   "source": [
    "### Analysis starts\n"
   ]
  },
  {
   "cell_type": "code",
   "execution_count": 51,
   "metadata": {},
   "outputs": [
    {
     "name": "stdout",
     "output_type": "stream",
     "text": [
      "there have been 88863 accidents since 1948\n"
     ]
    }
   ],
   "source": [
    "minimum_date = df['Event.Date'].min()[:4] #makes the code neat and short---finding the date where the records begin\n",
    "print(f\"there have been {len(df['Accident.Number'].value_counts())} accidents since {minimum_date}\")"
   ]
  },
  {
   "cell_type": "code",
   "execution_count": 52,
   "metadata": {},
   "outputs": [
    {
     "data": {
      "text/plain": [
       "<bound method Series.unique of 1         Fatal(2)\n",
       "2         Fatal(4)\n",
       "3         Fatal(3)\n",
       "4         Fatal(2)\n",
       "5         Fatal(1)\n",
       "           ...    \n",
       "88885        Minor\n",
       "88886             \n",
       "88887    Non-Fatal\n",
       "88888             \n",
       "88889        Minor\n",
       "Name: Injury.Severity, Length: 88889, dtype: object>"
      ]
     },
     "execution_count": 52,
     "metadata": {},
     "output_type": "execute_result"
    }
   ],
   "source": [
    "df[\"Injury.Severity\"].unique #finding the different types of injuries we might find in this dataset"
   ]
  },
  {
   "cell_type": "markdown",
   "metadata": {},
   "source": [
    "### Documenting the different types of injuries\n"
   ]
  },
  {
   "cell_type": "code",
   "execution_count": 53,
   "metadata": {},
   "outputs": [
    {
     "data": {
      "text/plain": [
       "5262"
      ]
     },
     "execution_count": 53,
     "metadata": {},
     "output_type": "execute_result"
    }
   ],
   "source": [
    "fatal = df[df[\"Injury.Severity\"] == \"Fatal\"]\n",
    "len(fatal)"
   ]
  },
  {
   "cell_type": "code",
   "execution_count": 54,
   "metadata": {},
   "outputs": [
    {
     "data": {
      "text/plain": [
       "218"
      ]
     },
     "execution_count": 54,
     "metadata": {},
     "output_type": "execute_result"
    }
   ],
   "source": [
    "Minor = df[df[\"Injury.Severity\"] == \"Minor\"]\n",
    "len(Minor)"
   ]
  },
  {
   "cell_type": "code",
   "execution_count": 55,
   "metadata": {},
   "outputs": [
    {
     "data": {
      "text/plain": [
       "67357"
      ]
     },
     "execution_count": 55,
     "metadata": {},
     "output_type": "execute_result"
    }
   ],
   "source": [
    "Non_Fatal = df[df[\"Injury.Severity\"] == \"Non-Fatal\"]\n",
    "len(Non_Fatal)"
   ]
  },
  {
   "cell_type": "code",
   "execution_count": 56,
   "metadata": {},
   "outputs": [
    {
     "name": "stdout",
     "output_type": "stream",
     "text": [
      "there were 5262 fatal incidents, 218 minor injuries and  67357 non fatal injuries in total\n"
     ]
    }
   ],
   "source": [
    "#combining the data for a smooth flowing statement\n",
    "print(f\"there were {len(fatal)} fatal incidents, {len(Minor)} minor injuries and  {len(Non_Fatal)} non fatal injuries in total\")"
   ]
  },
  {
   "cell_type": "code",
   "execution_count": 57,
   "metadata": {},
   "outputs": [
    {
     "data": {
      "image/png": "[encoded data removed]",
      "text/plain": [
       "<Figure size 432x288 with 1 Axes>"
      ]
     },
     "metadata": {
      "needs_background": "light"
     },
     "output_type": "display_data"
    }
   ],
   "source": [
    "#creating a dicionary to plot the results in one graph\n",
    "fatality_dict = { 'Non_Fatal': len(Non_Fatal),'fatal': len(fatal), 'Minor': len(Minor)}\n",
    "\n",
    "# creating values for each axis\n",
    "fatality = list(fatality_dict.keys())\n",
    "values = list(fatality_dict.values())\n",
    "plt.bar(fatality, values, color='orange')\n",
    "plt.xlabel('fatality')\n",
    "plt.ylabel('Values')\n",
    "plt.title('injuries after accident')\n",
    "plt.show();\n",
    "#most of the injuries apear to be non-fatal"
   ]
  },
  {
   "cell_type": "markdown",
   "metadata": {},
   "source": [
    "### Finding different causes of the crashes"
   ]
  },
  {
   "cell_type": "code",
   "execution_count": 58,
   "metadata": {},
   "outputs": [
    {
     "data": {
      "text/plain": [
       "array(['Accident', 'Incident'], dtype=object)"
      ]
     },
     "execution_count": 58,
     "metadata": {},
     "output_type": "execute_result"
    }
   ],
   "source": [
    "#cause of crash\n",
    "df['Investigation.Type'].unique()"
   ]
  },
  {
   "cell_type": "code",
   "execution_count": 59,
   "metadata": {},
   "outputs": [],
   "source": [
    "accident = len(df[df['Investigation.Type'] == 'Accident'])\n",
    "incident = len(df[df['Investigation.Type'] == 'Incident'])"
   ]
  },
  {
   "cell_type": "code",
   "execution_count": 60,
   "metadata": {},
   "outputs": [
    {
     "name": "stdout",
     "output_type": "stream",
     "text": [
      "there are 85015 accidents and 3874 incidents\n"
     ]
    }
   ],
   "source": [
    "#making the dataset cleaner by combining the information into a singe line\n",
    "print(f\"there are {len(df[df['Investigation.Type'] == 'Accident'])} accidents and {len(df[df['Investigation.Type'] == 'Incident'])} incidents\")"
   ]
  },
  {
   "cell_type": "code",
   "execution_count": 61,
   "metadata": {},
   "outputs": [
    {
     "data": {
      "image/png": "[encoded data removed]",
      "text/plain": [
       "<Figure size 432x288 with 1 Axes>"
      ]
     },
     "metadata": {},
     "output_type": "display_data"
    }
   ],
   "source": [
    "# Creating dictionary with data\n",
    "Investigation_type = { 'Accident': accident, 'Incident': incident } \n",
    "# Creating values for the pie chart\n",
    "labels = list(Investigation_type.keys())\n",
    "values = list(Investigation_type.values())\n",
    "plt.pie(values, labels=labels, colors=['orange', 'skyblue'], autopct='%1.1f%%')\n",
    "plt.title('Accident Types')\n",
    "plt.show();"
   ]
  },
  {
   "cell_type": "markdown",
   "metadata": {},
   "source": [
    "### Investigating factors that could cause the accident"
   ]
  },
  {
   "cell_type": "code",
   "execution_count": 62,
   "metadata": {},
   "outputs": [
    {
     "data": {
      "text/plain": [
       "array(['UNK', 'IMC', 'VMC', '', 'Unk'], dtype=object)"
      ]
     },
     "execution_count": 62,
     "metadata": {},
     "output_type": "execute_result"
    }
   ],
   "source": [
    "df[\"Weather.Condition\"].unique()"
   ]
  },
  {
   "cell_type": "code",
   "execution_count": 63,
   "metadata": {},
   "outputs": [],
   "source": [
    "VMC = len(df[df[\"Weather.Condition\"] == 'VMC'])\n",
    "#\"VMC\" stands for Visual Meteorological Conditions. This indicates that the weather conditions are good enough for pilots to operate"
   ]
  },
  {
   "cell_type": "code",
   "execution_count": 64,
   "metadata": {},
   "outputs": [],
   "source": [
    "IMC = len(df[df[\"Weather.Condition\"] == 'IMC'])\n",
    "#\"IMC\" stands for Instrument Meteorological Conditions. These conditions occur when visibility is poor, typically due to weather factors"
   ]
  },
  {
   "cell_type": "code",
   "execution_count": 65,
   "metadata": {},
   "outputs": [],
   "source": [
    "UNK = len(df[df[\"Weather.Condition\"] == 'UNK' ]) #unk = unknown or not recorded"
   ]
  },
  {
   "cell_type": "code",
   "execution_count": 66,
   "metadata": {},
   "outputs": [],
   "source": [
    "Unk = len(df[df[\"Weather.Condition\"] == 'Unk']) #unk = unknown or not recorded"
   ]
  },
  {
   "cell_type": "code",
   "execution_count": 67,
   "metadata": {},
   "outputs": [
    {
     "data": {
      "text/plain": [
       "4492"
      ]
     },
     "execution_count": 67,
     "metadata": {},
     "output_type": "execute_result"
    }
   ],
   "source": [
    "blank = len(df[df[\"Weather.Condition\"] == '']) \n",
    "blank #blank information"
   ]
  },
  {
   "cell_type": "code",
   "execution_count": 68,
   "metadata": {},
   "outputs": [
    {
     "data": {
      "text/plain": [
       "1118"
      ]
     },
     "execution_count": 68,
     "metadata": {},
     "output_type": "execute_result"
    }
   ],
   "source": [
    "unknown = UNK + Unk # adding the unknowns \n",
    "unknown\n"
   ]
  },
  {
   "cell_type": "code",
   "execution_count": 94,
   "metadata": {},
   "outputs": [
    {
     "data": {
      "image/png": "[encoded data removed]",
      "text/plain": [
       "<Figure size 432x288 with 1 Axes>"
      ]
     },
     "metadata": {},
     "output_type": "display_data"
    }
   ],
   "source": [
    "# pie chart of data\n",
    "# Creating dictionary with data\n",
    "Investigation_type = { 'VMC': VMC, 'IMC': IMC, 'unknown': unknown, 'blank': blank} \n",
    "# Creating values for the pie chart\n",
    "labels = list(Investigation_type.keys())\n",
    "values = list(Investigation_type.values())\n",
    "plt.pie(values, labels=labels, colors=['orange', 'skyblue', 'yellow', 'pink'], autopct='%1.1f%%')\n",
    "plt.title('Accident Types')\n",
    "plt.legend(['VMC (Visual Meteorological Conditions)', \n",
    "            'IMC (Instrument Meteorological Conditions)', \n",
    "            'unknown (Uncertain conditions)', \n",
    "            'blank (No data)'], \n",
    "           loc=\"best\")\n",
    "plt.show();\n",
    "\n",
    "\n",
    "#finding out why most of the accidents happen during visible conditions\n",
    "#mandate all pilots/airlines to record flight data "
   ]
  },
  {
   "cell_type": "markdown",
   "metadata": {},
   "source": [
    "### Investigating other factors"
   ]
  },
  {
   "cell_type": "code",
   "execution_count": 70,
   "metadata": {},
   "outputs": [],
   "source": [
    "weather_investigation = df[df[\"Weather.Condition\"] == \"VMC\"][\"Broad.phase.of.flight\"]\n",
    "# tying to identify which phase of flight has the highest rate of accidents during normal conditions"
   ]
  },
  {
   "cell_type": "code",
   "execution_count": 71,
   "metadata": {},
   "outputs": [
    {
     "data": {
      "text/plain": [
       "               27165\n",
       "Landing        15428\n",
       "Takeoff        12493\n",
       "Cruise         10269\n",
       "Maneuvering     8144\n",
       "Approach        6546\n",
       "Climb           2034\n",
       "Taxi            1958\n",
       "Descent         1887\n",
       "Go-around       1353\n",
       "Standing         945\n",
       "Unknown          548\n",
       "Other            119\n",
       "Name: Broad.phase.of.flight, dtype: int64"
      ]
     },
     "execution_count": 71,
     "metadata": {},
     "output_type": "execute_result"
    }
   ],
   "source": [
    "df[\"Broad.phase.of.flight\"].value_counts()\n",
    "#majour accidents caused at landing \n"
   ]
  },
  {
   "cell_type": "code",
   "execution_count": 72,
   "metadata": {},
   "outputs": [
    {
     "data": {
      "image/png": "[encoded data removed]",
      "text/plain": [
       "<Figure size 1440x576 with 1 Axes>"
      ]
     },
     "metadata": {
      "needs_background": "light"
     },
     "output_type": "display_data"
    }
   ],
   "source": [
    "#plotting a bargraph for phase of flight vs accident\n",
    "fig, ax = plt.subplots(figsize=(20,8))\n",
    "phase = df[\"Broad.phase.of.flight\"].value_counts().keys()\n",
    "value = df[\"Broad.phase.of.flight\"].value_counts().values\n",
    "plt.bar(phase, value, color = 'pink')\n",
    "plt.show();\n",
    "# recomendations\n",
    "# train pilots on landing\n",
    "#record more inflight weather conditions\n",
    "#27165 entries are left blank"
   ]
  },
  {
   "cell_type": "code",
   "execution_count": 73,
   "metadata": {
    "scrolled": true
   },
   "outputs": [
    {
     "data": {
      "text/plain": [
       "Probable Cause                                                                                                                                                                                                                                                                                                                                                                             61754\n",
       "                                                                                                                                                                                                                                                                                                                                                                                            6380\n",
       "Foreign                                                                                                                                                                                                                                                                                                                                                                                     1999\n",
       "<br /><br />                                                                                                                                                                                                                                                                                                                                                                                 167\n",
       "Factual                                                                                                                                                                                                                                                                                                                                                                                      145\n",
       "                                                                                                                                                                                                                                                                                                                                                                                           ...  \n",
       "The pilot's failure to maintain sufficient airspeed following a loss of engine power, which resulted in the airplane exceeding its critical angle of attack and an aerodynamic stall. Contributing to the accident was the pilot's inadvertent placement of the fuel selector in the \"Off\" position before takeoff, which resulted in fuel starvation and a total loss of engine power.        1\n",
       "Failure of the pilot to maintain a safe clearance from the terrain while manuevering for the landing surface.                                                                                                                                                                                                                                                                                  1\n",
       "The pilot's inadequate preflight which resulted in insufficient fuel on board to complete the flight.  A factor associated with the accident was the soft terrain encountered during the forced landing.                                                                                                                                                                                       1\n",
       "A total loss of engine power due to fuel starvation for undetermined reasons.\\n                                                                                                                                                                                                                                                                                                                1\n",
       "The pilot's improper decision to attempt an off-airport departure from rough terrain without inspecting the takeoff area, which resulted in a collision with a shallow rut during takeoff and the nose landing gear collapsing. \\n                                                                                                                                                             1\n",
       "Name: Report.Status, Length: 17077, dtype: int64"
      ]
     },
     "execution_count": 73,
     "metadata": {},
     "output_type": "execute_result"
    }
   ],
   "source": [
    "df['Report.Status'].value_counts()\n",
    "#What Is Probable Cause\n",
    "#Probable cause is legal justification for a police officer to make an arrest, obtain a warrant, or search a person or his property."
   ]
  },
  {
   "cell_type": "code",
   "execution_count": 74,
   "metadata": {},
   "outputs": [],
   "source": [
    "probable = len(df[df['Report.Status'] == 'Probable Cause'])\n",
    "# finding the number of accidents reported as probable"
   ]
  },
  {
   "cell_type": "code",
   "execution_count": 75,
   "metadata": {},
   "outputs": [],
   "source": [
    "foreign = len(df[df['Report.Status'] == 'Foreign'])\n",
    "# finding the number of accidents reported as foreign"
   ]
  },
  {
   "cell_type": "code",
   "execution_count": 76,
   "metadata": {},
   "outputs": [
    {
     "data": {
      "text/plain": [
       "167"
      ]
     },
     "execution_count": 76,
     "metadata": {},
     "output_type": "execute_result"
    }
   ],
   "source": [
    "len(df[df['Report.Status'] == '<br /><br />'])\n",
    "# finding the number of accidents reported incorectly"
   ]
  },
  {
   "cell_type": "code",
   "execution_count": 77,
   "metadata": {},
   "outputs": [],
   "source": [
    "factual = len(df[df['Report.Status'] == 'Factual'])\n",
    "# finding the number of accidents reported as factual"
   ]
  },
  {
   "cell_type": "code",
   "execution_count": null,
   "metadata": {},
   "outputs": [],
   "source": []
  },
  {
   "cell_type": "code",
   "execution_count": 78,
   "metadata": {},
   "outputs": [],
   "source": [
    "to_delete = []\n",
    "for i, row in df.iterrows():\n",
    "    if '<br /><br />' in row.values:\n",
    "        to_delete.append(i)\n",
    "\n",
    "# Dropping rows with the identified indices\n",
    "df_cleaned = df.drop(index=to_delete)\n"
   ]
  },
  {
   "cell_type": "code",
   "execution_count": 79,
   "metadata": {},
   "outputs": [
    {
     "data": {
      "text/plain": [
       "(88889, 17)"
      ]
     },
     "execution_count": 79,
     "metadata": {},
     "output_type": "execute_result"
    }
   ],
   "source": [
    "df.shape"
   ]
  },
  {
   "cell_type": "code",
   "execution_count": 80,
   "metadata": {},
   "outputs": [
    {
     "data": {
      "text/plain": [
       "(88722, 17)"
      ]
     },
     "execution_count": 80,
     "metadata": {},
     "output_type": "execute_result"
    }
   ],
   "source": [
    "df_cleaned.shape"
   ]
  },
  {
   "cell_type": "code",
   "execution_count": 81,
   "metadata": {},
   "outputs": [
    {
     "data": {
      "image/png": "[encoded data removed]",
      "text/plain": [
       "<Figure size 432x288 with 1 Axes>"
      ]
     },
     "metadata": {
      "needs_background": "light"
     },
     "output_type": "display_data"
    }
   ],
   "source": [
    "#creating a dicionary to plot the results in one graph\n",
    "causes_dict = { 'probable': probable,'foreign': foreign, 'factual': factual}\n",
    "\n",
    "# creating values for each axis\n",
    "cause = list(causes_dict.keys())\n",
    "values = list(causes_dict.values())\n",
    "plt.bar(cause, values, color='orange')\n",
    "plt.xlabel('causes')\n",
    "plt.ylabel('Values')\n",
    "plt.title('causes')\n",
    "plt.show();\n",
    "\n",
    "#most accidents are caused due to pilot error\n",
    "#possible solution is to increade training to reduce errors \n",
    "#each report status statement is different each statement has to be read individually to trully understand the cause of the crash"
   ]
  },
  {
   "cell_type": "code",
   "execution_count": 82,
   "metadata": {},
   "outputs": [
    {
     "data": {
      "text/plain": [
       "Substantial    64148\n",
       "Destroyed      18623\n",
       "                3194\n",
       "Minor           2805\n",
       "Unknown          119\n",
       "Name: Aircraft.damage, dtype: int64"
      ]
     },
     "execution_count": 82,
     "metadata": {},
     "output_type": "execute_result"
    }
   ],
   "source": [
    "#conditions of the planes after the crash\n",
    "df['Aircraft.damage'].value_counts()"
   ]
  },
  {
   "cell_type": "code",
   "execution_count": 83,
   "metadata": {},
   "outputs": [
    {
     "data": {
      "image/png": "[encoded data removed]",
      "text/plain": [
       "<Figure size 720x360 with 1 Axes>"
      ]
     },
     "metadata": {
      "needs_background": "light"
     },
     "output_type": "display_data"
    }
   ],
   "source": [
    "\n",
    "fig, ax = plt.subplots(figsize=(10,5))\n",
    "damage = df['Aircraft.damage'].value_counts().keys()\n",
    "value = df['Aircraft.damage'].value_counts().values\n",
    "plt.bar(damage, value, color = 'red')\n",
    "plt.xlabel('damage')\n",
    "plt.ylabel('value')\n",
    "plt.title('Aircraft Damage')\n",
    "plt.show();"
   ]
  },
  {
   "cell_type": "code",
   "execution_count": 84,
   "metadata": {},
   "outputs": [
    {
     "data": {
      "text/plain": [
       "No     80312\n",
       "Yes     8475\n",
       "         102\n",
       "Name: Amateur.Built, dtype: int64"
      ]
     },
     "execution_count": 84,
     "metadata": {},
     "output_type": "execute_result"
    }
   ],
   "source": [
    "#does ameture built planes cause more accidents?\n",
    "df['Amateur.Built'].value_counts()"
   ]
  },
  {
   "cell_type": "code",
   "execution_count": 85,
   "metadata": {},
   "outputs": [
    {
     "data": {
      "image/png": "[encoded data removed]",
      "text/plain": [
       "<Figure size 720x360 with 1 Axes>"
      ]
     },
     "metadata": {
      "needs_background": "light"
     },
     "output_type": "display_data"
    }
   ],
   "source": [
    "\n",
    "fig, ax = plt.subplots(figsize=(10,5))\n",
    "Amateu = df['Amateur.Built'].value_counts().keys()\n",
    "value = df['Amateur.Built'].value_counts().values\n",
    "plt.bar(Amateu, value, color = 'purple')\n",
    "plt.xlabel('Amateur')\n",
    "plt.ylabel('value')\n",
    "plt.title('')\n",
    "plt.show();"
   ]
  },
  {
   "cell_type": "code",
   "execution_count": 86,
   "metadata": {},
   "outputs": [
    {
     "data": {
      "text/html": [
       "<div>\n",
       "<style scoped>\n",
       "    .dataframe tbody tr th:only-of-type {\n",
       "        vertical-align: middle;\n",
       "    }\n",
       "\n",
       "    .dataframe tbody tr th {\n",
       "        vertical-align: top;\n",
       "    }\n",
       "\n",
       "    .dataframe thead th {\n",
       "        text-align: right;\n",
       "    }\n",
       "</style>\n",
       "<table border=\"1\" class=\"dataframe\">\n",
       "  <thead>\n",
       "    <tr style=\"text-align: right;\">\n",
       "      <th></th>\n",
       "      <th>Aircraft.damage</th>\n",
       "      <th>Amateur.Built</th>\n",
       "    </tr>\n",
       "  </thead>\n",
       "  <tbody>\n",
       "    <tr>\n",
       "      <th>1</th>\n",
       "      <td>Destroyed</td>\n",
       "      <td>No</td>\n",
       "    </tr>\n",
       "    <tr>\n",
       "      <th>2</th>\n",
       "      <td>Destroyed</td>\n",
       "      <td>No</td>\n",
       "    </tr>\n",
       "    <tr>\n",
       "      <th>3</th>\n",
       "      <td>Destroyed</td>\n",
       "      <td>No</td>\n",
       "    </tr>\n",
       "    <tr>\n",
       "      <th>4</th>\n",
       "      <td>Destroyed</td>\n",
       "      <td>No</td>\n",
       "    </tr>\n",
       "    <tr>\n",
       "      <th>5</th>\n",
       "      <td>Destroyed</td>\n",
       "      <td>No</td>\n",
       "    </tr>\n",
       "    <tr>\n",
       "      <th>...</th>\n",
       "      <td>...</td>\n",
       "      <td>...</td>\n",
       "    </tr>\n",
       "    <tr>\n",
       "      <th>88885</th>\n",
       "      <td></td>\n",
       "      <td>No</td>\n",
       "    </tr>\n",
       "    <tr>\n",
       "      <th>88886</th>\n",
       "      <td></td>\n",
       "      <td>No</td>\n",
       "    </tr>\n",
       "    <tr>\n",
       "      <th>88887</th>\n",
       "      <td>Substantial</td>\n",
       "      <td>No</td>\n",
       "    </tr>\n",
       "    <tr>\n",
       "      <th>88888</th>\n",
       "      <td></td>\n",
       "      <td>No</td>\n",
       "    </tr>\n",
       "    <tr>\n",
       "      <th>88889</th>\n",
       "      <td></td>\n",
       "      <td>No</td>\n",
       "    </tr>\n",
       "  </tbody>\n",
       "</table>\n",
       "<p>88889 rows × 2 columns</p>\n",
       "</div>"
      ],
      "text/plain": [
       "0     Aircraft.damage Amateur.Built\n",
       "1           Destroyed            No\n",
       "2           Destroyed            No\n",
       "3           Destroyed            No\n",
       "4           Destroyed            No\n",
       "5           Destroyed            No\n",
       "...               ...           ...\n",
       "88885                            No\n",
       "88886                            No\n",
       "88887     Substantial            No\n",
       "88888                            No\n",
       "88889                            No\n",
       "\n",
       "[88889 rows x 2 columns]"
      ]
     },
     "execution_count": 86,
     "metadata": {},
     "output_type": "execute_result"
    }
   ],
   "source": [
    "#method to show tht ametaur build does not coorelate with accident proneness\n",
    "ametaur_damage = df[['Aircraft.damage', 'Amateur.Built']]\n",
    "ametaur_damage"
   ]
  },
  {
   "cell_type": "code",
   "execution_count": 87,
   "metadata": {
    "scrolled": false
   },
   "outputs": [
    {
     "data": {
      "image/png": "[encoded data removed]",
      "text/plain": [
       "<Figure size 576x432 with 1 Axes>"
      ]
     },
     "metadata": {
      "needs_background": "light"
     },
     "output_type": "display_data"
    }
   ],
   "source": [
    "grouped_data = df.groupby(['Aircraft.damage', 'Amateur.Built']).size().unstack()\n",
    "grouped_data.plot(kind='bar', figsize=(8, 6), color=['skyblue', 'orange'])\n",
    "plt.title('Aircraft Damage vs Amateur Built')\n",
    "plt.xlabel('Aircraft Damage')\n",
    "plt.ylabel('Count')\n",
    "plt.legend(title='Amateur Built')\n",
    "plt.tight_layout()\n",
    "#majoritty of the crashes are done by profesional built aircrafts and most of the damage is substantial"
   ]
  },
  {
   "cell_type": "markdown",
   "metadata": {},
   "source": [
    "# which country has the most accidents?"
   ]
  },
  {
   "cell_type": "code",
   "execution_count": 88,
   "metadata": {},
   "outputs": [
    {
     "data": {
      "text/plain": [
       "United States     82248\n",
       "Brazil              374\n",
       "Canada              359\n",
       "Mexico              358\n",
       "United Kingdom      344\n",
       "Australia           300\n",
       "France              236\n",
       "Spain               226\n",
       "                    226\n",
       "Bahamas             216\n",
       "Name: Country, dtype: int64"
      ]
     },
     "execution_count": 88,
     "metadata": {},
     "output_type": "execute_result"
    }
   ],
   "source": [
    "df['Country'].value_counts()[:10]"
   ]
  },
  {
   "cell_type": "code",
   "execution_count": 89,
   "metadata": {},
   "outputs": [
    {
     "data": {
      "image/png": "[encoded data removed]",
      "text/plain": [
       "<Figure size 1440x360 with 1 Axes>"
      ]
     },
     "metadata": {
      "needs_background": "light"
     },
     "output_type": "display_data"
    }
   ],
   "source": [
    "#the data is more in favour of the USA seems like there is missing information with the other countries\n",
    "#we will focus on USA\n",
    "fig, ax = plt.subplots(figsize=(20,5))\n",
    "country = df['Country'].value_counts()[:10].keys()\n",
    "value = df['Country'].value_counts()[:10].values\n",
    "plt.bar(country, value, color = 'purple')\n",
    "plt.xlabel('country')\n",
    "plt.ylabel('value')\n",
    "plt.title('')\n",
    "plt.show();"
   ]
  },
  {
   "cell_type": "code",
   "execution_count": 90,
   "metadata": {},
   "outputs": [
    {
     "data": {
      "text/plain": [
       "75317"
      ]
     },
     "execution_count": 90,
     "metadata": {},
     "output_type": "execute_result"
    }
   ],
   "source": [
    "len(df[(df['Country'] == 'United States') & (df['Weather.Condition'] == 'VMC')])\n",
    "#weather conditions are mostly clear so weather is not a main reason to crashes"
   ]
  },
  {
   "cell_type": "code",
   "execution_count": 91,
   "metadata": {},
   "outputs": [
    {
     "data": {
      "text/plain": [
       "ANCHORAGE, AK       434\n",
       "MIAMI, FL           200\n",
       "ALBUQUERQUE, NM     196\n",
       "HOUSTON, TX         193\n",
       "CHICAGO, IL         184\n",
       "                   ... \n",
       "Walker, CA            1\n",
       "DALE, IN              1\n",
       "Windsor, CO           1\n",
       "Ormond beach, FL      1\n",
       "Brownsville, CA       1\n",
       "Name: Location, Length: 27759, dtype: int64"
      ]
     },
     "execution_count": 91,
     "metadata": {},
     "output_type": "execute_result"
    }
   ],
   "source": [
    "df['Location'].value_counts()"
   ]
  },
  {
   "cell_type": "code",
   "execution_count": 92,
   "metadata": {},
   "outputs": [
    {
     "data": {
      "image/png": "[encoded data removed]",
      "text/plain": [
       "<Figure size 1440x360 with 1 Axes>"
      ]
     },
     "metadata": {
      "needs_background": "light"
     },
     "output_type": "display_data"
    }
   ],
   "source": [
    "#to find out which state has the highest accident\n",
    "fig, ax = plt.subplots(figsize=(20,5))\n",
    "location = df['Location'].value_counts()[:10].keys()\n",
    "value = df['Location'].value_counts()[:10].values\n",
    "plt.bar(location, value, color = 'purple')\n",
    "plt.xlabel('location')\n",
    "plt.ylabel('value')\n",
    "plt.title('')\n",
    "plt.show();"
   ]
  },
  {
   "cell_type": "code",
   "execution_count": 93,
   "metadata": {},
   "outputs": [
    {
     "data": {
      "text/plain": [
       "414"
      ]
     },
     "execution_count": 93,
     "metadata": {},
     "output_type": "execute_result"
    }
   ],
   "source": [
    "len(df[(df['Location'] == 'ANCHORAGE, AK') & (df['Weather.Condition'] == 'VMC')])\n",
    "#414 of the accidents happened during VMC"
   ]
  },
  {
   "cell_type": "markdown",
   "metadata": {},
   "source": [
    "## Analysis\n",
    "The data shows that 95.6% of crashes are accidents, which happen more often than incidents. Most accidents are caused by pilot error, but there are other factors too, like overconfidence, busy air traffic, distractions, runway problems, and miscommunications with traffic control. Surprisingly, many accidents happen in clear weather. Landing is the riskiest part of a flight because it involves a lot of factors and little time to fix mistakes. However, as technology improves, airplanes have become safer, and the number of injuries has gone down.\n",
    "\n",
    "\n",
    "## Recomendations\n",
    "* Train pilots more on landing and takeoff emergency scenarios\n",
    "* Increase their mandatory flight hours on a training simulator as Prospective commercial pilots typically log at least 250 hours of \n",
    " flying time to earn their license\n",
    "* Optimize air traffic management systems with AI-based solutions for smoother coordination.\n",
    "* Improve communication tools between pilots and air traffic controllers.\n",
    "* Expand infrastructure to handle increasing air traffic efficiently.\n",
    "* Standardize communication protocols to reduce ambiguity.\n",
    "* Invest in reliable backup systems for uninterrupted communication.\n",
    "\n",
    "\n",
    "### Links\n",
    "* Powerpoint presentation: https://docs.google.com/presentation/d/1ytu83b6jLZPcnG6btw22G82pGBaod7TEUOXxrFlFVCs/edit?usp=sharing\n",
    "* tableau public Tableau public: [Aviation Accident Project | Tableau Public](https://public.tableau.com/app/profile/eric.giitwa/viz/AviationAccidentProject/Dashboard1)\n",
    "\n"
   ]
  },
  {
   "cell_type": "code",
   "execution_count": null,
   "metadata": {},
   "outputs": [],
   "source": []
  }
 ],
 "metadata": {
  "kernelspec": {
   "display_name": "Python (learn-env)",
   "language": "python",
   "name": "learn-env"
  },
  "language_info": {
   "codemirror_mode": {
    "name": "ipython",
    "version": 3
   },
   "file_extension": ".py",
   "mimetype": "text/x-python",
   "name": "python",
   "nbconvert_exporter": "python",
   "pygments_lexer": "ipython3",
   "version": "3.8.5"
  }
 },
 "nbformat": 4,
 "nbformat_minor": 4
}
